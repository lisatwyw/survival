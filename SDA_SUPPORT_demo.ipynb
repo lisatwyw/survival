{
  "nbformat": 4,
  "nbformat_minor": 0,
  "metadata": {
    "colab": {
      "provenance": [],
      "toc_visible": true,
      "authorship_tag": "ABX9TyNv1Q5tPA3LKbRQJn8Bmroq",
      "include_colab_link": true
    },
    "kernelspec": {
      "name": "python3",
      "display_name": "Python 3"
    },
    "language_info": {
      "name": "python"
    },
    "gpuClass": "standard",
    "accelerator": "TPU"
  },
  "cells": [
    {
      "cell_type": "markdown",
      "metadata": {
        "id": "view-in-github",
        "colab_type": "text"
      },
      "source": [
        "<a href=\"https://colab.research.google.com/github/lisatwyw/survival/blob/main/SDA_SUPPORT_demo.ipynb\" target=\"_parent\"><img src=\"https://colab.research.google.com/assets/colab-badge.svg\" alt=\"Open In Colab\"/></a>"
      ]
    },
    {
      "cell_type": "markdown",
      "source": [
        "\n",
        "\n",
        "# Contents\n",
        "\n",
        "- SEER dataest can be [downloaded](\n",
        "https://zenodo.org/record/5120960/files/SEER%20Breast%20Cancer%20Dataset%20.csv?download=1) without application\n",
        "\n",
        "- ```SUPPORT``` (in hd5 format)\n",
        "\n",
        "- ```sksurv```: ```cph```, ```rsf```"
      ],
      "metadata": {
        "id": "vOjVIguieDrU"
      }
    },
    {
      "cell_type": "markdown",
      "source": [
        "# Setup: Mount drive and install packages"
      ],
      "metadata": {
        "id": "2cakMDQ29lfi"
      }
    },
    {
      "cell_type": "code",
      "execution_count": 1,
      "metadata": {
        "colab": {
          "base_uri": "https://localhost:8080/"
        },
        "id": "Fx0uGK3X1GzC",
        "outputId": "c6a2491a-3d4c-4e99-8f65-27c990338b85"
      },
      "outputs": [
        {
          "output_type": "stream",
          "name": "stdout",
          "text": [
            "Mounted at /content/drive\n"
          ]
        }
      ],
      "source": [
        "from google.colab import drive\n",
        "drive.mount('/content/drive', force_remount=True)\n",
        "\n",
        "from pydrive.auth import GoogleAuth\n",
        "from pydrive.drive import GoogleDrive\n",
        "from google.colab import auth\n",
        "from oauth2client.client import GoogleCredentials\n",
        "\n",
        "subdir='surv'\n",
        "\n",
        "try:\n",
        "  os.mkdir( '/content/drive/My Drive/Colab Notebooks/%s'% subdir )\n",
        "except: \n",
        "  pass  \n",
        "import os\n",
        "try:\n",
        "  os.mkdir( '/content/drive/My Drive/Colab Notebooks/%s'% subdir )\n",
        "except:\n",
        "  pass  \n",
        "import os\n",
        "os.chdir('/content/drive/My Drive/Colab Notebooks/%s'% subdir )\n",
        "\n",
        "try:\n",
        "  os.mkdir( '/content/drive/My Drive/Colab Notebooks/packages'  )\n",
        "except:\n",
        "  pass  "
      ]
    },
    {
      "cell_type": "code",
      "source": [
        "!ls '/content/drive/My Drive/Colab Notebooks/packages'"
      ],
      "metadata": {
        "colab": {
          "base_uri": "https://localhost:8080/"
        },
        "id": "_t-xIYOvvUZS",
        "outputId": "36389afa-4343-4624-e85f-d356c05c3de8"
      },
      "execution_count": 2,
      "outputs": [
        {
          "output_type": "stream",
          "name": "stdout",
          "text": [
            "bin\t\t\t\t      pandas-1.5.2.dist-info\n",
            "dateutil\t\t\t      __pycache__\n",
            "ecos\t\t\t\t      python_dateutil-2.8.2.dist-info\n",
            "ecos-2.0.12.dist-info\t\t      pytz\n",
            "_ecos.cpython-38-x86_64-linux-gnu.so  pytz-2022.7.dist-info\n",
            "extension\t\t\t      qdldl-0.1.5.post2.dist-info\n",
            "jedi\t\t\t\t      qdldl.cpython-38-x86_64-linux-gnu.so\n",
            "jedi-0.10.0.dist-info\t\t      scikit_learn-1.1.3.dist-info\n",
            "joblib\t\t\t\t      scikit_learn.libs\n",
            "joblib-1.2.0.dist-info\t\t      scikit_survival-0.19.0.post1.dist-info\n",
            "numexpr\t\t\t\t      scipy\n",
            "numexpr-2.8.4.dist-info\t\t      scipy-1.9.3.dist-info\n",
            "numpy\t\t\t\t      scipy.libs\n",
            "numpy-1.23.0.dist-info\t\t      six-1.16.0.dist-info\n",
            "numpy.libs\t\t\t      six.py\n",
            "osqp\t\t\t\t      sklearn\n",
            "osqp-0.6.2.post8.dist-info\t      sksurv\n",
            "osqppurepy\t\t\t      threadpoolctl-3.1.0.dist-info\n",
            "pandas\t\t\t\t      threadpoolctl.py\n"
          ]
        }
      ]
    },
    {
      "cell_type": "code",
      "source": [
        "import os, sys \n",
        "nb_path = '/content/notebooks'\n",
        "\n",
        "if 0:\n",
        "  try:\n",
        "    os.symlink('/content/drive/My Drive/Colab Notebooks/packages', nb_path)\n",
        "  except:\n",
        "    pass \n",
        "\n",
        "  sys.path.insert(0,nb_path)\n",
        "\n",
        "  try:\n",
        "    import sksurv\n",
        "  except:\n",
        "    !pip3 install --target=$nb_path jedi==0.10 numpy==1.23 scikit-survival==0.19 \n",
        "\n",
        "\n",
        "try:\n",
        "  import pycox\n",
        "except:\n",
        "  !pip3 install scikit-survival pycox \n"
      ],
      "metadata": {
        "id": "aDEl9Nh0shqQ"
      },
      "execution_count": 3,
      "outputs": []
    },
    {
      "cell_type": "code",
      "source": [
        "'''\n",
        "Looking in indexes: https://pypi.org/simple, https://us-python.pkg.dev/colab-wheels/public/simple/\n",
        "Requirement already satisfied: scikit-survival in /usr/local/lib/python3.8/dist-packages (0.19.0.post1)\n",
        "Requirement already satisfied: scipy>=1.3.2 in /usr/local/lib/python3.8/dist-packages (from scikit-survival) (1.9.3)\n",
        "Requirement already satisfied: joblib in /usr/local/lib/python3.8/dist-packages (from scikit-survival) (1.2.0)\n",
        "Requirement already satisfied: numexpr in /usr/local/lib/python3.8/dist-packages (from scikit-survival) (2.8.4)\n",
        "Requirement already satisfied: numpy in /usr/local/lib/python3.8/dist-packages (from scikit-survival) (1.23.0)\n",
        "Requirement already satisfied: osqp!=0.6.0,!=0.6.1 in /usr/local/lib/python3.8/dist-packages (from scikit-survival) (0.6.2.post0)\n",
        "Requirement already satisfied: pandas>=1.0.5 in /usr/local/lib/python3.8/dist-packages (from scikit-survival) (1.3.5)\n",
        "Requirement already satisfied: ecos in /usr/local/lib/python3.8/dist-packages (from scikit-survival) (2.0.10)\n",
        "Requirement already satisfied: scikit-learn<1.2,>=1.1.2 in /usr/local/lib/python3.8/dist-packages (from scikit-survival) (1.1.3)\n",
        "Requirement already satisfied: qdldl in /usr/local/lib/python3.8/dist-packages (from osqp!=0.6.0,!=0.6.1->scikit-survival) (0.1.5.post2)\n",
        "Requirement already satisfied: pytz>=2017.3 in /usr/local/lib/python3.8/dist-packages (from pandas>=1.0.5->scikit-survival) (2022.6)\n",
        "Requirement already satisfied: python-dateutil>=2.7.3 in /usr/local/lib/python3.8/dist-packages (from pandas>=1.0.5->scikit-survival) (2.8.2)\n",
        "Requirement already satisfied: six>=1.5 in /usr/local/lib/python3.8/dist-packages (from python-dateutil>=2.7.3->pandas>=1.0.5->scikit-survival) (1.15.0)\n",
        "Requirement already satisfied: threadpoolctl>=2.0.0 in /usr/local/lib/python3.8/dist-packages (from scikit-learn<1.2,>=1.1.2->scikit-survival) (3.1.0)\n",
        "'''"
      ],
      "metadata": {
        "id": "1IKdLyTwsXk6",
        "colab": {
          "base_uri": "https://localhost:8080/",
          "height": 168
        },
        "outputId": "92020c88-f210-4894-ad36-b9c54e2defac"
      },
      "execution_count": 4,
      "outputs": [
        {
          "output_type": "execute_result",
          "data": {
            "text/plain": [
              "'\\nLooking in indexes: https://pypi.org/simple, https://us-python.pkg.dev/colab-wheels/public/simple/\\nRequirement already satisfied: scikit-survival in /usr/local/lib/python3.8/dist-packages (0.19.0.post1)\\nRequirement already satisfied: scipy>=1.3.2 in /usr/local/lib/python3.8/dist-packages (from scikit-survival) (1.9.3)\\nRequirement already satisfied: joblib in /usr/local/lib/python3.8/dist-packages (from scikit-survival) (1.2.0)\\nRequirement already satisfied: numexpr in /usr/local/lib/python3.8/dist-packages (from scikit-survival) (2.8.4)\\nRequirement already satisfied: numpy in /usr/local/lib/python3.8/dist-packages (from scikit-survival) (1.23.0)\\nRequirement already satisfied: osqp!=0.6.0,!=0.6.1 in /usr/local/lib/python3.8/dist-packages (from scikit-survival) (0.6.2.post0)\\nRequirement already satisfied: pandas>=1.0.5 in /usr/local/lib/python3.8/dist-packages (from scikit-survival) (1.3.5)\\nRequirement already satisfied: ecos in /usr/local/lib/python3.8/dist-packages (from scikit-survival) (2.0.10)\\nRequirement already satisfied: scikit-learn<1.2,>=1.1.2 in /usr/local/lib/python3.8/dist-packages (from scikit-survival) (1.1.3)\\nRequirement already satisfied: qdldl in /usr/local/lib/python3.8/dist-packages (from osqp!=0.6.0,!=0.6.1->scikit-survival) (0.1.5.post2)\\nRequirement already satisfied: pytz>=2017.3 in /usr/local/lib/python3.8/dist-packages (from pandas>=1.0.5->scikit-survival) (2022.6)\\nRequirement already satisfied: python-dateutil>=2.7.3 in /usr/local/lib/python3.8/dist-packages (from pandas>=1.0.5->scikit-survival) (2.8.2)\\nRequirement already satisfied: six>=1.5 in /usr/local/lib/python3.8/dist-packages (from python-dateutil>=2.7.3->pandas>=1.0.5->scikit-survival) (1.15.0)\\nRequirement already satisfied: threadpoolctl>=2.0.0 in /usr/local/lib/python3.8/dist-packages (from scikit-learn<1.2,>=1.1.2->scikit-survival) (3.1.0)\\n'"
            ],
            "application/vnd.google.colaboratory.intrinsic+json": {
              "type": "string"
            }
          },
          "metadata": {},
          "execution_count": 4
        }
      ]
    },
    {
      "cell_type": "code",
      "source": [
        "import pandas as pd\n",
        "import seaborn as sns\n",
        "import numpy as np\n",
        "import matplotlib.pyplot as plt\n",
        "\n",
        "\n",
        "from sklearn import set_config\n",
        "from sklearn.impute import SimpleImputer\n",
        "from sklearn.model_selection import train_test_split\n",
        "from sklearn.pipeline import make_pipeline\n",
        "\n",
        "\n",
        "from sksurv.linear_model import CoxPHSurvivalAnalysis, CoxnetSurvivalAnalysis\n",
        "\n",
        "\n",
        "from sksurv.ensemble import RandomSurvivalForest\n",
        "from sksurv.metrics import (\n",
        "    concordance_index_censored,\n",
        "    concordance_index_ipcw,\n",
        "    cumulative_dynamic_auc,\n",
        "    integrated_brier_score,\n",
        ")\n",
        "from sksurv.nonparametric import kaplan_meier_estimator\n",
        "from sksurv.preprocessing import OneHotEncoder, encode_categorical\n",
        "from sksurv.util import Surv\n",
        "\n"
      ],
      "metadata": {
        "id": "xeKSbZVq9upL"
      },
      "execution_count": 5,
      "outputs": []
    },
    {
      "cell_type": "code",
      "source": [
        "df = pd.read_csv('/content/drive/My Drive/Colab Notebooks/surv/pbc.csv') \n",
        "print( df.shape  )\n",
        "print( df.status.unique())\n",
        "df.head()\n"
      ],
      "metadata": {
        "id": "wsmoTgMQcgUy",
        "colab": {
          "base_uri": "https://localhost:8080/",
          "height": 307
        },
        "outputId": "b91c6e4c-819d-4572-bc5f-dc64fd72c49b"
      },
      "execution_count": 6,
      "outputs": [
        {
          "output_type": "stream",
          "name": "stdout",
          "text": [
            "(276, 19)\n",
            "[1 0]\n"
          ]
        },
        {
          "output_type": "execute_result",
          "data": {
            "text/plain": [
              "   time  status  treatment    age  sex  ascites  hepatom  spiders  edema  \\\n",
              "0    41       1          1  24064    1        1        0        0    1.0   \n",
              "1    51       1          2  25772    1        1        0        1    1.0   \n",
              "2    71       1          1  18972    1        0        1        1    0.5   \n",
              "3    77       1          2  19884    1        1        1        1    0.5   \n",
              "4   110       1          2  17884    1        1        1        1    1.0   \n",
              "\n",
              "   bili  chol  albumin  copper     alk    sgot  trig  platelet  prothrombin  \\\n",
              "0  17.9   175     2.10     220   705.0  338.00   229        62         12.9   \n",
              "1  12.6   200     2.74     140   918.0  147.25   143       302         11.5   \n",
              "2  12.2   394     3.08     111  2132.0  155.00   243       165         11.6   \n",
              "3  21.6   175     3.31     221  3697.4  101.91   168        80         12.0   \n",
              "4   2.5   188     3.67      57  1273.0  119.35   102       110         11.1   \n",
              "\n",
              "   stage  \n",
              "0      4  \n",
              "1      4  \n",
              "2      4  \n",
              "3      4  \n",
              "4      4  "
            ],
            "text/html": [
              "\n",
              "  <div id=\"df-505249bb-8693-40ce-b630-5b49b228e5db\">\n",
              "    <div class=\"colab-df-container\">\n",
              "      <div>\n",
              "<style scoped>\n",
              "    .dataframe tbody tr th:only-of-type {\n",
              "        vertical-align: middle;\n",
              "    }\n",
              "\n",
              "    .dataframe tbody tr th {\n",
              "        vertical-align: top;\n",
              "    }\n",
              "\n",
              "    .dataframe thead th {\n",
              "        text-align: right;\n",
              "    }\n",
              "</style>\n",
              "<table border=\"1\" class=\"dataframe\">\n",
              "  <thead>\n",
              "    <tr style=\"text-align: right;\">\n",
              "      <th></th>\n",
              "      <th>time</th>\n",
              "      <th>status</th>\n",
              "      <th>treatment</th>\n",
              "      <th>age</th>\n",
              "      <th>sex</th>\n",
              "      <th>ascites</th>\n",
              "      <th>hepatom</th>\n",
              "      <th>spiders</th>\n",
              "      <th>edema</th>\n",
              "      <th>bili</th>\n",
              "      <th>chol</th>\n",
              "      <th>albumin</th>\n",
              "      <th>copper</th>\n",
              "      <th>alk</th>\n",
              "      <th>sgot</th>\n",
              "      <th>trig</th>\n",
              "      <th>platelet</th>\n",
              "      <th>prothrombin</th>\n",
              "      <th>stage</th>\n",
              "    </tr>\n",
              "  </thead>\n",
              "  <tbody>\n",
              "    <tr>\n",
              "      <th>0</th>\n",
              "      <td>41</td>\n",
              "      <td>1</td>\n",
              "      <td>1</td>\n",
              "      <td>24064</td>\n",
              "      <td>1</td>\n",
              "      <td>1</td>\n",
              "      <td>0</td>\n",
              "      <td>0</td>\n",
              "      <td>1.0</td>\n",
              "      <td>17.9</td>\n",
              "      <td>175</td>\n",
              "      <td>2.10</td>\n",
              "      <td>220</td>\n",
              "      <td>705.0</td>\n",
              "      <td>338.00</td>\n",
              "      <td>229</td>\n",
              "      <td>62</td>\n",
              "      <td>12.9</td>\n",
              "      <td>4</td>\n",
              "    </tr>\n",
              "    <tr>\n",
              "      <th>1</th>\n",
              "      <td>51</td>\n",
              "      <td>1</td>\n",
              "      <td>2</td>\n",
              "      <td>25772</td>\n",
              "      <td>1</td>\n",
              "      <td>1</td>\n",
              "      <td>0</td>\n",
              "      <td>1</td>\n",
              "      <td>1.0</td>\n",
              "      <td>12.6</td>\n",
              "      <td>200</td>\n",
              "      <td>2.74</td>\n",
              "      <td>140</td>\n",
              "      <td>918.0</td>\n",
              "      <td>147.25</td>\n",
              "      <td>143</td>\n",
              "      <td>302</td>\n",
              "      <td>11.5</td>\n",
              "      <td>4</td>\n",
              "    </tr>\n",
              "    <tr>\n",
              "      <th>2</th>\n",
              "      <td>71</td>\n",
              "      <td>1</td>\n",
              "      <td>1</td>\n",
              "      <td>18972</td>\n",
              "      <td>1</td>\n",
              "      <td>0</td>\n",
              "      <td>1</td>\n",
              "      <td>1</td>\n",
              "      <td>0.5</td>\n",
              "      <td>12.2</td>\n",
              "      <td>394</td>\n",
              "      <td>3.08</td>\n",
              "      <td>111</td>\n",
              "      <td>2132.0</td>\n",
              "      <td>155.00</td>\n",
              "      <td>243</td>\n",
              "      <td>165</td>\n",
              "      <td>11.6</td>\n",
              "      <td>4</td>\n",
              "    </tr>\n",
              "    <tr>\n",
              "      <th>3</th>\n",
              "      <td>77</td>\n",
              "      <td>1</td>\n",
              "      <td>2</td>\n",
              "      <td>19884</td>\n",
              "      <td>1</td>\n",
              "      <td>1</td>\n",
              "      <td>1</td>\n",
              "      <td>1</td>\n",
              "      <td>0.5</td>\n",
              "      <td>21.6</td>\n",
              "      <td>175</td>\n",
              "      <td>3.31</td>\n",
              "      <td>221</td>\n",
              "      <td>3697.4</td>\n",
              "      <td>101.91</td>\n",
              "      <td>168</td>\n",
              "      <td>80</td>\n",
              "      <td>12.0</td>\n",
              "      <td>4</td>\n",
              "    </tr>\n",
              "    <tr>\n",
              "      <th>4</th>\n",
              "      <td>110</td>\n",
              "      <td>1</td>\n",
              "      <td>2</td>\n",
              "      <td>17884</td>\n",
              "      <td>1</td>\n",
              "      <td>1</td>\n",
              "      <td>1</td>\n",
              "      <td>1</td>\n",
              "      <td>1.0</td>\n",
              "      <td>2.5</td>\n",
              "      <td>188</td>\n",
              "      <td>3.67</td>\n",
              "      <td>57</td>\n",
              "      <td>1273.0</td>\n",
              "      <td>119.35</td>\n",
              "      <td>102</td>\n",
              "      <td>110</td>\n",
              "      <td>11.1</td>\n",
              "      <td>4</td>\n",
              "    </tr>\n",
              "  </tbody>\n",
              "</table>\n",
              "</div>\n",
              "      <button class=\"colab-df-convert\" onclick=\"convertToInteractive('df-505249bb-8693-40ce-b630-5b49b228e5db')\"\n",
              "              title=\"Convert this dataframe to an interactive table.\"\n",
              "              style=\"display:none;\">\n",
              "        \n",
              "  <svg xmlns=\"http://www.w3.org/2000/svg\" height=\"24px\"viewBox=\"0 0 24 24\"\n",
              "       width=\"24px\">\n",
              "    <path d=\"M0 0h24v24H0V0z\" fill=\"none\"/>\n",
              "    <path d=\"M18.56 5.44l.94 2.06.94-2.06 2.06-.94-2.06-.94-.94-2.06-.94 2.06-2.06.94zm-11 1L8.5 8.5l.94-2.06 2.06-.94-2.06-.94L8.5 2.5l-.94 2.06-2.06.94zm10 10l.94 2.06.94-2.06 2.06-.94-2.06-.94-.94-2.06-.94 2.06-2.06.94z\"/><path d=\"M17.41 7.96l-1.37-1.37c-.4-.4-.92-.59-1.43-.59-.52 0-1.04.2-1.43.59L10.3 9.45l-7.72 7.72c-.78.78-.78 2.05 0 2.83L4 21.41c.39.39.9.59 1.41.59.51 0 1.02-.2 1.41-.59l7.78-7.78 2.81-2.81c.8-.78.8-2.07 0-2.86zM5.41 20L4 18.59l7.72-7.72 1.47 1.35L5.41 20z\"/>\n",
              "  </svg>\n",
              "      </button>\n",
              "      \n",
              "  <style>\n",
              "    .colab-df-container {\n",
              "      display:flex;\n",
              "      flex-wrap:wrap;\n",
              "      gap: 12px;\n",
              "    }\n",
              "\n",
              "    .colab-df-convert {\n",
              "      background-color: #E8F0FE;\n",
              "      border: none;\n",
              "      border-radius: 50%;\n",
              "      cursor: pointer;\n",
              "      display: none;\n",
              "      fill: #1967D2;\n",
              "      height: 32px;\n",
              "      padding: 0 0 0 0;\n",
              "      width: 32px;\n",
              "    }\n",
              "\n",
              "    .colab-df-convert:hover {\n",
              "      background-color: #E2EBFA;\n",
              "      box-shadow: 0px 1px 2px rgba(60, 64, 67, 0.3), 0px 1px 3px 1px rgba(60, 64, 67, 0.15);\n",
              "      fill: #174EA6;\n",
              "    }\n",
              "\n",
              "    [theme=dark] .colab-df-convert {\n",
              "      background-color: #3B4455;\n",
              "      fill: #D2E3FC;\n",
              "    }\n",
              "\n",
              "    [theme=dark] .colab-df-convert:hover {\n",
              "      background-color: #434B5C;\n",
              "      box-shadow: 0px 1px 3px 1px rgba(0, 0, 0, 0.15);\n",
              "      filter: drop-shadow(0px 1px 2px rgba(0, 0, 0, 0.3));\n",
              "      fill: #FFFFFF;\n",
              "    }\n",
              "  </style>\n",
              "\n",
              "      <script>\n",
              "        const buttonEl =\n",
              "          document.querySelector('#df-505249bb-8693-40ce-b630-5b49b228e5db button.colab-df-convert');\n",
              "        buttonEl.style.display =\n",
              "          google.colab.kernel.accessAllowed ? 'block' : 'none';\n",
              "\n",
              "        async function convertToInteractive(key) {\n",
              "          const element = document.querySelector('#df-505249bb-8693-40ce-b630-5b49b228e5db');\n",
              "          const dataTable =\n",
              "            await google.colab.kernel.invokeFunction('convertToInteractive',\n",
              "                                                     [key], {});\n",
              "          if (!dataTable) return;\n",
              "\n",
              "          const docLinkHtml = 'Like what you see? Visit the ' +\n",
              "            '<a target=\"_blank\" href=https://colab.research.google.com/notebooks/data_table.ipynb>data table notebook</a>'\n",
              "            + ' to learn more about interactive tables.';\n",
              "          element.innerHTML = '';\n",
              "          dataTable['output_type'] = 'display_data';\n",
              "          await google.colab.output.renderOutput(dataTable, element);\n",
              "          const docLink = document.createElement('div');\n",
              "          docLink.innerHTML = docLinkHtml;\n",
              "          element.appendChild(docLink);\n",
              "        }\n",
              "      </script>\n",
              "    </div>\n",
              "  </div>\n",
              "  "
            ]
          },
          "metadata": {},
          "execution_count": 6
        }
      ]
    },
    {
      "cell_type": "code",
      "source": [
        "\n",
        "df = pd.read_csv('/content/drive/My Drive/Colab Notebooks/surv/breast.csv') \n",
        "print( df.shape  )\n",
        "print( df.status.unique())\n",
        "df.head()"
      ],
      "metadata": {
        "id": "xIn-VrnfcgYx",
        "colab": {
          "base_uri": "https://localhost:8080/",
          "height": 243
        },
        "outputId": "670500c0-7b09-4d06-fc37-d1726276f723"
      },
      "execution_count": 7,
      "outputs": [
        {
          "output_type": "stream",
          "name": "stdout",
          "text": [
            "(672, 10)\n",
            "[1 0]\n"
          ]
        },
        {
          "output_type": "execute_result",
          "data": {
            "text/plain": [
              "   time  status  hormone  age  menostat  size  grade  pnodes  progrec  estrec\n",
              "0    72       1        0   59         1     8      2       5        1      30\n",
              "1    98       1        0   57         1    50      3      13       22      47\n",
              "2   113       1        0   51         1    70      3       6       28       5\n",
              "3   114       0        1   55         1    20      1       4       10     128\n",
              "4   120       1        0   43         0    80      3      11        9       1"
            ],
            "text/html": [
              "\n",
              "  <div id=\"df-8b9c9543-25c7-4c78-889b-ee2c4e9b2a68\">\n",
              "    <div class=\"colab-df-container\">\n",
              "      <div>\n",
              "<style scoped>\n",
              "    .dataframe tbody tr th:only-of-type {\n",
              "        vertical-align: middle;\n",
              "    }\n",
              "\n",
              "    .dataframe tbody tr th {\n",
              "        vertical-align: top;\n",
              "    }\n",
              "\n",
              "    .dataframe thead th {\n",
              "        text-align: right;\n",
              "    }\n",
              "</style>\n",
              "<table border=\"1\" class=\"dataframe\">\n",
              "  <thead>\n",
              "    <tr style=\"text-align: right;\">\n",
              "      <th></th>\n",
              "      <th>time</th>\n",
              "      <th>status</th>\n",
              "      <th>hormone</th>\n",
              "      <th>age</th>\n",
              "      <th>menostat</th>\n",
              "      <th>size</th>\n",
              "      <th>grade</th>\n",
              "      <th>pnodes</th>\n",
              "      <th>progrec</th>\n",
              "      <th>estrec</th>\n",
              "    </tr>\n",
              "  </thead>\n",
              "  <tbody>\n",
              "    <tr>\n",
              "      <th>0</th>\n",
              "      <td>72</td>\n",
              "      <td>1</td>\n",
              "      <td>0</td>\n",
              "      <td>59</td>\n",
              "      <td>1</td>\n",
              "      <td>8</td>\n",
              "      <td>2</td>\n",
              "      <td>5</td>\n",
              "      <td>1</td>\n",
              "      <td>30</td>\n",
              "    </tr>\n",
              "    <tr>\n",
              "      <th>1</th>\n",
              "      <td>98</td>\n",
              "      <td>1</td>\n",
              "      <td>0</td>\n",
              "      <td>57</td>\n",
              "      <td>1</td>\n",
              "      <td>50</td>\n",
              "      <td>3</td>\n",
              "      <td>13</td>\n",
              "      <td>22</td>\n",
              "      <td>47</td>\n",
              "    </tr>\n",
              "    <tr>\n",
              "      <th>2</th>\n",
              "      <td>113</td>\n",
              "      <td>1</td>\n",
              "      <td>0</td>\n",
              "      <td>51</td>\n",
              "      <td>1</td>\n",
              "      <td>70</td>\n",
              "      <td>3</td>\n",
              "      <td>6</td>\n",
              "      <td>28</td>\n",
              "      <td>5</td>\n",
              "    </tr>\n",
              "    <tr>\n",
              "      <th>3</th>\n",
              "      <td>114</td>\n",
              "      <td>0</td>\n",
              "      <td>1</td>\n",
              "      <td>55</td>\n",
              "      <td>1</td>\n",
              "      <td>20</td>\n",
              "      <td>1</td>\n",
              "      <td>4</td>\n",
              "      <td>10</td>\n",
              "      <td>128</td>\n",
              "    </tr>\n",
              "    <tr>\n",
              "      <th>4</th>\n",
              "      <td>120</td>\n",
              "      <td>1</td>\n",
              "      <td>0</td>\n",
              "      <td>43</td>\n",
              "      <td>0</td>\n",
              "      <td>80</td>\n",
              "      <td>3</td>\n",
              "      <td>11</td>\n",
              "      <td>9</td>\n",
              "      <td>1</td>\n",
              "    </tr>\n",
              "  </tbody>\n",
              "</table>\n",
              "</div>\n",
              "      <button class=\"colab-df-convert\" onclick=\"convertToInteractive('df-8b9c9543-25c7-4c78-889b-ee2c4e9b2a68')\"\n",
              "              title=\"Convert this dataframe to an interactive table.\"\n",
              "              style=\"display:none;\">\n",
              "        \n",
              "  <svg xmlns=\"http://www.w3.org/2000/svg\" height=\"24px\"viewBox=\"0 0 24 24\"\n",
              "       width=\"24px\">\n",
              "    <path d=\"M0 0h24v24H0V0z\" fill=\"none\"/>\n",
              "    <path d=\"M18.56 5.44l.94 2.06.94-2.06 2.06-.94-2.06-.94-.94-2.06-.94 2.06-2.06.94zm-11 1L8.5 8.5l.94-2.06 2.06-.94-2.06-.94L8.5 2.5l-.94 2.06-2.06.94zm10 10l.94 2.06.94-2.06 2.06-.94-2.06-.94-.94-2.06-.94 2.06-2.06.94z\"/><path d=\"M17.41 7.96l-1.37-1.37c-.4-.4-.92-.59-1.43-.59-.52 0-1.04.2-1.43.59L10.3 9.45l-7.72 7.72c-.78.78-.78 2.05 0 2.83L4 21.41c.39.39.9.59 1.41.59.51 0 1.02-.2 1.41-.59l7.78-7.78 2.81-2.81c.8-.78.8-2.07 0-2.86zM5.41 20L4 18.59l7.72-7.72 1.47 1.35L5.41 20z\"/>\n",
              "  </svg>\n",
              "      </button>\n",
              "      \n",
              "  <style>\n",
              "    .colab-df-container {\n",
              "      display:flex;\n",
              "      flex-wrap:wrap;\n",
              "      gap: 12px;\n",
              "    }\n",
              "\n",
              "    .colab-df-convert {\n",
              "      background-color: #E8F0FE;\n",
              "      border: none;\n",
              "      border-radius: 50%;\n",
              "      cursor: pointer;\n",
              "      display: none;\n",
              "      fill: #1967D2;\n",
              "      height: 32px;\n",
              "      padding: 0 0 0 0;\n",
              "      width: 32px;\n",
              "    }\n",
              "\n",
              "    .colab-df-convert:hover {\n",
              "      background-color: #E2EBFA;\n",
              "      box-shadow: 0px 1px 2px rgba(60, 64, 67, 0.3), 0px 1px 3px 1px rgba(60, 64, 67, 0.15);\n",
              "      fill: #174EA6;\n",
              "    }\n",
              "\n",
              "    [theme=dark] .colab-df-convert {\n",
              "      background-color: #3B4455;\n",
              "      fill: #D2E3FC;\n",
              "    }\n",
              "\n",
              "    [theme=dark] .colab-df-convert:hover {\n",
              "      background-color: #434B5C;\n",
              "      box-shadow: 0px 1px 3px 1px rgba(0, 0, 0, 0.15);\n",
              "      filter: drop-shadow(0px 1px 2px rgba(0, 0, 0, 0.3));\n",
              "      fill: #FFFFFF;\n",
              "    }\n",
              "  </style>\n",
              "\n",
              "      <script>\n",
              "        const buttonEl =\n",
              "          document.querySelector('#df-8b9c9543-25c7-4c78-889b-ee2c4e9b2a68 button.colab-df-convert');\n",
              "        buttonEl.style.display =\n",
              "          google.colab.kernel.accessAllowed ? 'block' : 'none';\n",
              "\n",
              "        async function convertToInteractive(key) {\n",
              "          const element = document.querySelector('#df-8b9c9543-25c7-4c78-889b-ee2c4e9b2a68');\n",
              "          const dataTable =\n",
              "            await google.colab.kernel.invokeFunction('convertToInteractive',\n",
              "                                                     [key], {});\n",
              "          if (!dataTable) return;\n",
              "\n",
              "          const docLinkHtml = 'Like what you see? Visit the ' +\n",
              "            '<a target=\"_blank\" href=https://colab.research.google.com/notebooks/data_table.ipynb>data table notebook</a>'\n",
              "            + ' to learn more about interactive tables.';\n",
              "          element.innerHTML = '';\n",
              "          dataTable['output_type'] = 'display_data';\n",
              "          await google.colab.output.renderOutput(dataTable, element);\n",
              "          const docLink = document.createElement('div');\n",
              "          docLink.innerHTML = docLinkHtml;\n",
              "          element.appendChild(docLink);\n",
              "        }\n",
              "      </script>\n",
              "    </div>\n",
              "  </div>\n",
              "  "
            ]
          },
          "metadata": {},
          "execution_count": 7
        }
      ]
    },
    {
      "cell_type": "code",
      "source": [
        "import pandas as pd\n",
        "df = pd.read_csv('/content/drive/My Drive/Colab Notebooks/surv/kickstarter.csv') \n",
        "print( df.shape  )\n",
        "print( df.status.unique())\n",
        "df.head()"
      ],
      "metadata": {
        "id": "hzb-XATCcgda",
        "colab": {
          "base_uri": "https://localhost:8080/",
          "height": 336
        },
        "outputId": "cb988d9e-134a-481f-fde6-58d247cb46b1"
      },
      "execution_count": 8,
      "outputs": [
        {
          "output_type": "stream",
          "name": "stdout",
          "text": [
            "(4175, 56)\n",
            "[1 0]\n"
          ]
        },
        {
          "output_type": "execute_result",
          "data": {
            "text/plain": [
              "   time  status  cat1  cat2  cat3  cat4  cat5  cat6  cat7  cat8  ...  \\\n",
              "0     1       1     1     0     0     0     0     0     0     0  ...   \n",
              "1     1       1     1     0     0     0     0     0     0     0  ...   \n",
              "2     1       1     0     0     0     0     1     0     0     0  ...   \n",
              "3     1       1     1     0     0     0     0     0     0     0  ...   \n",
              "4     1       1     0     0     0     0     1     0     0     0  ...   \n",
              "\n",
              "   usr_net_bic    1f_plg    1f_bck  1prj_prom     2f_plg    2f_bck  2prj_prom  \\\n",
              "0     0.000000  9.994073  0.046648   0.000000  15.163901  0.073328   0.000000   \n",
              "1     0.000000  1.997137 -0.083354   0.000000   1.544977 -0.102276   0.000000   \n",
              "2     0.470316  2.636237  1.668257   1.000264   2.439467  1.387848   1.732227   \n",
              "3     0.000000  0.000000  0.000000   0.000000   0.000000  0.000000   0.000000   \n",
              "4    -0.260923  1.587458  0.197177  -0.265049   1.179622  0.103431  -0.280888   \n",
              "\n",
              "      3f_plg    3f_bck  3prj_prom  \n",
              "0  15.247005  0.107104   0.000000  \n",
              "1   1.284910 -0.113991   0.000000  \n",
              "2   2.252687  1.229586   0.580395  \n",
              "3   0.000000  0.000000   0.000000  \n",
              "4   1.013062  0.068837  -0.258752  \n",
              "\n",
              "[5 rows x 56 columns]"
            ],
            "text/html": [
              "\n",
              "  <div id=\"df-0cad11a5-9beb-4659-a326-7f6743d62f12\">\n",
              "    <div class=\"colab-df-container\">\n",
              "      <div>\n",
              "<style scoped>\n",
              "    .dataframe tbody tr th:only-of-type {\n",
              "        vertical-align: middle;\n",
              "    }\n",
              "\n",
              "    .dataframe tbody tr th {\n",
              "        vertical-align: top;\n",
              "    }\n",
              "\n",
              "    .dataframe thead th {\n",
              "        text-align: right;\n",
              "    }\n",
              "</style>\n",
              "<table border=\"1\" class=\"dataframe\">\n",
              "  <thead>\n",
              "    <tr style=\"text-align: right;\">\n",
              "      <th></th>\n",
              "      <th>time</th>\n",
              "      <th>status</th>\n",
              "      <th>cat1</th>\n",
              "      <th>cat2</th>\n",
              "      <th>cat3</th>\n",
              "      <th>cat4</th>\n",
              "      <th>cat5</th>\n",
              "      <th>cat6</th>\n",
              "      <th>cat7</th>\n",
              "      <th>cat8</th>\n",
              "      <th>...</th>\n",
              "      <th>usr_net_bic</th>\n",
              "      <th>1f_plg</th>\n",
              "      <th>1f_bck</th>\n",
              "      <th>1prj_prom</th>\n",
              "      <th>2f_plg</th>\n",
              "      <th>2f_bck</th>\n",
              "      <th>2prj_prom</th>\n",
              "      <th>3f_plg</th>\n",
              "      <th>3f_bck</th>\n",
              "      <th>3prj_prom</th>\n",
              "    </tr>\n",
              "  </thead>\n",
              "  <tbody>\n",
              "    <tr>\n",
              "      <th>0</th>\n",
              "      <td>1</td>\n",
              "      <td>1</td>\n",
              "      <td>1</td>\n",
              "      <td>0</td>\n",
              "      <td>0</td>\n",
              "      <td>0</td>\n",
              "      <td>0</td>\n",
              "      <td>0</td>\n",
              "      <td>0</td>\n",
              "      <td>0</td>\n",
              "      <td>...</td>\n",
              "      <td>0.000000</td>\n",
              "      <td>9.994073</td>\n",
              "      <td>0.046648</td>\n",
              "      <td>0.000000</td>\n",
              "      <td>15.163901</td>\n",
              "      <td>0.073328</td>\n",
              "      <td>0.000000</td>\n",
              "      <td>15.247005</td>\n",
              "      <td>0.107104</td>\n",
              "      <td>0.000000</td>\n",
              "    </tr>\n",
              "    <tr>\n",
              "      <th>1</th>\n",
              "      <td>1</td>\n",
              "      <td>1</td>\n",
              "      <td>1</td>\n",
              "      <td>0</td>\n",
              "      <td>0</td>\n",
              "      <td>0</td>\n",
              "      <td>0</td>\n",
              "      <td>0</td>\n",
              "      <td>0</td>\n",
              "      <td>0</td>\n",
              "      <td>...</td>\n",
              "      <td>0.000000</td>\n",
              "      <td>1.997137</td>\n",
              "      <td>-0.083354</td>\n",
              "      <td>0.000000</td>\n",
              "      <td>1.544977</td>\n",
              "      <td>-0.102276</td>\n",
              "      <td>0.000000</td>\n",
              "      <td>1.284910</td>\n",
              "      <td>-0.113991</td>\n",
              "      <td>0.000000</td>\n",
              "    </tr>\n",
              "    <tr>\n",
              "      <th>2</th>\n",
              "      <td>1</td>\n",
              "      <td>1</td>\n",
              "      <td>0</td>\n",
              "      <td>0</td>\n",
              "      <td>0</td>\n",
              "      <td>0</td>\n",
              "      <td>1</td>\n",
              "      <td>0</td>\n",
              "      <td>0</td>\n",
              "      <td>0</td>\n",
              "      <td>...</td>\n",
              "      <td>0.470316</td>\n",
              "      <td>2.636237</td>\n",
              "      <td>1.668257</td>\n",
              "      <td>1.000264</td>\n",
              "      <td>2.439467</td>\n",
              "      <td>1.387848</td>\n",
              "      <td>1.732227</td>\n",
              "      <td>2.252687</td>\n",
              "      <td>1.229586</td>\n",
              "      <td>0.580395</td>\n",
              "    </tr>\n",
              "    <tr>\n",
              "      <th>3</th>\n",
              "      <td>1</td>\n",
              "      <td>1</td>\n",
              "      <td>1</td>\n",
              "      <td>0</td>\n",
              "      <td>0</td>\n",
              "      <td>0</td>\n",
              "      <td>0</td>\n",
              "      <td>0</td>\n",
              "      <td>0</td>\n",
              "      <td>0</td>\n",
              "      <td>...</td>\n",
              "      <td>0.000000</td>\n",
              "      <td>0.000000</td>\n",
              "      <td>0.000000</td>\n",
              "      <td>0.000000</td>\n",
              "      <td>0.000000</td>\n",
              "      <td>0.000000</td>\n",
              "      <td>0.000000</td>\n",
              "      <td>0.000000</td>\n",
              "      <td>0.000000</td>\n",
              "      <td>0.000000</td>\n",
              "    </tr>\n",
              "    <tr>\n",
              "      <th>4</th>\n",
              "      <td>1</td>\n",
              "      <td>1</td>\n",
              "      <td>0</td>\n",
              "      <td>0</td>\n",
              "      <td>0</td>\n",
              "      <td>0</td>\n",
              "      <td>1</td>\n",
              "      <td>0</td>\n",
              "      <td>0</td>\n",
              "      <td>0</td>\n",
              "      <td>...</td>\n",
              "      <td>-0.260923</td>\n",
              "      <td>1.587458</td>\n",
              "      <td>0.197177</td>\n",
              "      <td>-0.265049</td>\n",
              "      <td>1.179622</td>\n",
              "      <td>0.103431</td>\n",
              "      <td>-0.280888</td>\n",
              "      <td>1.013062</td>\n",
              "      <td>0.068837</td>\n",
              "      <td>-0.258752</td>\n",
              "    </tr>\n",
              "  </tbody>\n",
              "</table>\n",
              "<p>5 rows × 56 columns</p>\n",
              "</div>\n",
              "      <button class=\"colab-df-convert\" onclick=\"convertToInteractive('df-0cad11a5-9beb-4659-a326-7f6743d62f12')\"\n",
              "              title=\"Convert this dataframe to an interactive table.\"\n",
              "              style=\"display:none;\">\n",
              "        \n",
              "  <svg xmlns=\"http://www.w3.org/2000/svg\" height=\"24px\"viewBox=\"0 0 24 24\"\n",
              "       width=\"24px\">\n",
              "    <path d=\"M0 0h24v24H0V0z\" fill=\"none\"/>\n",
              "    <path d=\"M18.56 5.44l.94 2.06.94-2.06 2.06-.94-2.06-.94-.94-2.06-.94 2.06-2.06.94zm-11 1L8.5 8.5l.94-2.06 2.06-.94-2.06-.94L8.5 2.5l-.94 2.06-2.06.94zm10 10l.94 2.06.94-2.06 2.06-.94-2.06-.94-.94-2.06-.94 2.06-2.06.94z\"/><path d=\"M17.41 7.96l-1.37-1.37c-.4-.4-.92-.59-1.43-.59-.52 0-1.04.2-1.43.59L10.3 9.45l-7.72 7.72c-.78.78-.78 2.05 0 2.83L4 21.41c.39.39.9.59 1.41.59.51 0 1.02-.2 1.41-.59l7.78-7.78 2.81-2.81c.8-.78.8-2.07 0-2.86zM5.41 20L4 18.59l7.72-7.72 1.47 1.35L5.41 20z\"/>\n",
              "  </svg>\n",
              "      </button>\n",
              "      \n",
              "  <style>\n",
              "    .colab-df-container {\n",
              "      display:flex;\n",
              "      flex-wrap:wrap;\n",
              "      gap: 12px;\n",
              "    }\n",
              "\n",
              "    .colab-df-convert {\n",
              "      background-color: #E8F0FE;\n",
              "      border: none;\n",
              "      border-radius: 50%;\n",
              "      cursor: pointer;\n",
              "      display: none;\n",
              "      fill: #1967D2;\n",
              "      height: 32px;\n",
              "      padding: 0 0 0 0;\n",
              "      width: 32px;\n",
              "    }\n",
              "\n",
              "    .colab-df-convert:hover {\n",
              "      background-color: #E2EBFA;\n",
              "      box-shadow: 0px 1px 2px rgba(60, 64, 67, 0.3), 0px 1px 3px 1px rgba(60, 64, 67, 0.15);\n",
              "      fill: #174EA6;\n",
              "    }\n",
              "\n",
              "    [theme=dark] .colab-df-convert {\n",
              "      background-color: #3B4455;\n",
              "      fill: #D2E3FC;\n",
              "    }\n",
              "\n",
              "    [theme=dark] .colab-df-convert:hover {\n",
              "      background-color: #434B5C;\n",
              "      box-shadow: 0px 1px 3px 1px rgba(0, 0, 0, 0.15);\n",
              "      filter: drop-shadow(0px 1px 2px rgba(0, 0, 0, 0.3));\n",
              "      fill: #FFFFFF;\n",
              "    }\n",
              "  </style>\n",
              "\n",
              "      <script>\n",
              "        const buttonEl =\n",
              "          document.querySelector('#df-0cad11a5-9beb-4659-a326-7f6743d62f12 button.colab-df-convert');\n",
              "        buttonEl.style.display =\n",
              "          google.colab.kernel.accessAllowed ? 'block' : 'none';\n",
              "\n",
              "        async function convertToInteractive(key) {\n",
              "          const element = document.querySelector('#df-0cad11a5-9beb-4659-a326-7f6743d62f12');\n",
              "          const dataTable =\n",
              "            await google.colab.kernel.invokeFunction('convertToInteractive',\n",
              "                                                     [key], {});\n",
              "          if (!dataTable) return;\n",
              "\n",
              "          const docLinkHtml = 'Like what you see? Visit the ' +\n",
              "            '<a target=\"_blank\" href=https://colab.research.google.com/notebooks/data_table.ipynb>data table notebook</a>'\n",
              "            + ' to learn more about interactive tables.';\n",
              "          element.innerHTML = '';\n",
              "          dataTable['output_type'] = 'display_data';\n",
              "          await google.colab.output.renderOutput(dataTable, element);\n",
              "          const docLink = document.createElement('div');\n",
              "          docLink.innerHTML = docLinkHtml;\n",
              "          element.appendChild(docLink);\n",
              "        }\n",
              "      </script>\n",
              "    </div>\n",
              "  </div>\n",
              "  "
            ]
          },
          "metadata": {},
          "execution_count": 8
        }
      ]
    },
    {
      "cell_type": "code",
      "source": [
        "# !wget https://github.com/MGensheimer/nnet-survival/blob/1d728f8c9c4a5f6b886c1910bedf4cf358171dcb/data/rhc.csv?raw=true\n"
      ],
      "metadata": {
        "id": "mHWFu8iO7PcV"
      },
      "execution_count": 9,
      "outputs": []
    },
    {
      "cell_type": "code",
      "source": [
        "from pycox import datasets\n",
        "df = datasets.metabric.read_df()"
      ],
      "metadata": {
        "id": "WeNAJpcCDiYG"
      },
      "execution_count": 10,
      "outputs": []
    },
    {
      "cell_type": "code",
      "source": [
        "print(df.head(3))\n",
        "df.shape"
      ],
      "metadata": {
        "id": "Q_jrF0FoDjf1",
        "colab": {
          "base_uri": "https://localhost:8080/"
        },
        "outputId": "cef43aed-61dd-4252-fe6e-a08eda8ee940"
      },
      "execution_count": 11,
      "outputs": [
        {
          "output_type": "stream",
          "name": "stdout",
          "text": [
            "         x0        x1         x2        x3   x4   x5   x6   x7         x8  \\\n",
            "0  5.603834  7.811392  10.797988  5.967607  1.0  1.0  0.0  1.0  56.840000   \n",
            "1  5.284882  9.581043  10.204620  5.664970  1.0  0.0  0.0  1.0  85.940002   \n",
            "2  5.920251  6.776564  12.431715  5.873857  0.0  1.0  0.0  1.0  48.439999   \n",
            "\n",
            "     duration  event  \n",
            "0   99.333336      0  \n",
            "1   95.733330      1  \n",
            "2  140.233337      0  \n"
          ]
        },
        {
          "output_type": "execute_result",
          "data": {
            "text/plain": [
              "(1904, 11)"
            ]
          },
          "metadata": {},
          "execution_count": 11
        }
      ]
    },
    {
      "cell_type": "markdown",
      "source": [
        "# Part 1: lung cancer daaset\n",
        "\n",
        "\"The Veterans’ Administration Lung Cancer Trial is a randomized trial of two treatment regimens for lung cancer [consisting] of 137 patients and 8 variables\" [Kalbfleisch J. and Prentice R, (1980) The Statistical Analysis of Failure Time Data. New York: Wiley](http://lib.stat.cmu.edu/datasets/veteran)\n"
      ],
      "metadata": {
        "id": "eoiLl3Rkfvtu"
      }
    },
    {
      "cell_type": "markdown",
      "source": [
        "## 1) Load veterans lung cancer dataset "
      ],
      "metadata": {
        "id": "xddIU-NNB5ul"
      }
    },
    {
      "cell_type": "code",
      "source": [
        "from sksurv.datasets import load_veterans_lung_cancer\n",
        "\n",
        "va_x, va_y = load_veterans_lung_cancer()"
      ],
      "metadata": {
        "id": "ZjX-4BnJ_ScP"
      },
      "execution_count": 12,
      "outputs": []
    },
    {
      "cell_type": "code",
      "source": [
        "va_y"
      ],
      "metadata": {
        "id": "E9demG55BEuR",
        "colab": {
          "base_uri": "https://localhost:8080/"
        },
        "outputId": "045e02e1-fc4e-4c7c-fe20-02280579fe93"
      },
      "execution_count": 13,
      "outputs": [
        {
          "output_type": "execute_result",
          "data": {
            "text/plain": [
              "array([( True,  72.), ( True, 411.), ( True, 228.), ( True, 126.),\n",
              "       ( True, 118.), ( True,  10.), ( True,  82.), ( True, 110.),\n",
              "       ( True, 314.), (False, 100.), ( True,  42.), ( True,   8.),\n",
              "       ( True, 144.), (False,  25.), ( True,  11.), ( True,  30.),\n",
              "       ( True, 384.), ( True,   4.), ( True,  54.), ( True,  13.),\n",
              "       (False, 123.), (False,  97.), ( True, 153.), ( True,  59.),\n",
              "       ( True, 117.), ( True,  16.), ( True, 151.), ( True,  22.),\n",
              "       ( True,  56.), ( True,  21.), ( True,  18.), ( True, 139.),\n",
              "       ( True,  20.), ( True,  31.), ( True,  52.), ( True, 287.),\n",
              "       ( True,  18.), ( True,  51.), ( True, 122.), ( True,  27.),\n",
              "       ( True,  54.), ( True,   7.), ( True,  63.), ( True, 392.),\n",
              "       ( True,  10.), ( True,   8.), ( True,  92.), ( True,  35.),\n",
              "       ( True, 117.), ( True, 132.), ( True,  12.), ( True, 162.),\n",
              "       ( True,   3.), ( True,  95.), ( True, 177.), ( True, 162.),\n",
              "       ( True, 216.), ( True, 553.), ( True, 278.), ( True,  12.),\n",
              "       ( True, 260.), ( True, 200.), ( True, 156.), (False, 182.),\n",
              "       ( True, 143.), ( True, 105.), ( True, 103.), ( True, 250.),\n",
              "       ( True, 100.), ( True, 999.), ( True, 112.), (False,  87.),\n",
              "       (False, 231.), ( True, 242.), ( True, 991.), ( True, 111.),\n",
              "       ( True,   1.), ( True, 587.), ( True, 389.), ( True,  33.),\n",
              "       ( True,  25.), ( True, 357.), ( True, 467.), ( True, 201.),\n",
              "       ( True,   1.), ( True,  30.), ( True,  44.), ( True, 283.),\n",
              "       ( True,  15.), ( True,  25.), (False, 103.), ( True,  21.),\n",
              "       ( True,  13.), ( True,  87.), ( True,   2.), ( True,  20.),\n",
              "       ( True,   7.), ( True,  24.), ( True,  99.), ( True,   8.),\n",
              "       ( True,  99.), ( True,  61.), ( True,  25.), ( True,  95.),\n",
              "       ( True,  80.), ( True,  51.), ( True,  29.), ( True,  24.),\n",
              "       ( True,  18.), (False,  83.), ( True,  31.), ( True,  51.),\n",
              "       ( True,  90.), ( True,  52.), ( True,  73.), ( True,   8.),\n",
              "       ( True,  36.), ( True,  48.), ( True,   7.), ( True, 140.),\n",
              "       ( True, 186.), ( True,  84.), ( True,  19.), ( True,  45.),\n",
              "       ( True,  80.), ( True,  52.), ( True, 164.), ( True,  19.),\n",
              "       ( True,  53.), ( True,  15.), ( True,  43.), ( True, 340.),\n",
              "       ( True, 133.), ( True, 111.), ( True, 231.), ( True, 378.),\n",
              "       ( True,  49.)],\n",
              "      dtype=[('Status', '?'), ('Survival_in_days', '<f8')])"
            ]
          },
          "metadata": {},
          "execution_count": 13
        }
      ]
    },
    {
      "cell_type": "code",
      "source": [
        "va_x"
      ],
      "metadata": {
        "id": "OGBd8DP58ys7",
        "colab": {
          "base_uri": "https://localhost:8080/",
          "height": 423
        },
        "outputId": "f5811d92-884c-46e8-f37c-3a84c8a68e54"
      },
      "execution_count": 14,
      "outputs": [
        {
          "output_type": "execute_result",
          "data": {
            "text/plain": [
              "     Age_in_years  Celltype  Karnofsky_score  Months_from_Diagnosis  \\\n",
              "0            69.0  squamous             60.0                    7.0   \n",
              "1            64.0  squamous             70.0                    5.0   \n",
              "2            38.0  squamous             60.0                    3.0   \n",
              "3            63.0  squamous             60.0                    9.0   \n",
              "4            65.0  squamous             70.0                   11.0   \n",
              "..            ...       ...              ...                    ...   \n",
              "132          65.0     large             75.0                    1.0   \n",
              "133          64.0     large             60.0                    5.0   \n",
              "134          67.0     large             70.0                   18.0   \n",
              "135          65.0     large             80.0                    4.0   \n",
              "136          37.0     large             30.0                    3.0   \n",
              "\n",
              "    Prior_therapy Treatment  \n",
              "0              no  standard  \n",
              "1             yes  standard  \n",
              "2              no  standard  \n",
              "3             yes  standard  \n",
              "4             yes  standard  \n",
              "..            ...       ...  \n",
              "132            no      test  \n",
              "133            no      test  \n",
              "134           yes      test  \n",
              "135            no      test  \n",
              "136            no      test  \n",
              "\n",
              "[137 rows x 6 columns]"
            ],
            "text/html": [
              "\n",
              "  <div id=\"df-589a4212-0f8c-420e-a3aa-519fb91ef90f\">\n",
              "    <div class=\"colab-df-container\">\n",
              "      <div>\n",
              "<style scoped>\n",
              "    .dataframe tbody tr th:only-of-type {\n",
              "        vertical-align: middle;\n",
              "    }\n",
              "\n",
              "    .dataframe tbody tr th {\n",
              "        vertical-align: top;\n",
              "    }\n",
              "\n",
              "    .dataframe thead th {\n",
              "        text-align: right;\n",
              "    }\n",
              "</style>\n",
              "<table border=\"1\" class=\"dataframe\">\n",
              "  <thead>\n",
              "    <tr style=\"text-align: right;\">\n",
              "      <th></th>\n",
              "      <th>Age_in_years</th>\n",
              "      <th>Celltype</th>\n",
              "      <th>Karnofsky_score</th>\n",
              "      <th>Months_from_Diagnosis</th>\n",
              "      <th>Prior_therapy</th>\n",
              "      <th>Treatment</th>\n",
              "    </tr>\n",
              "  </thead>\n",
              "  <tbody>\n",
              "    <tr>\n",
              "      <th>0</th>\n",
              "      <td>69.0</td>\n",
              "      <td>squamous</td>\n",
              "      <td>60.0</td>\n",
              "      <td>7.0</td>\n",
              "      <td>no</td>\n",
              "      <td>standard</td>\n",
              "    </tr>\n",
              "    <tr>\n",
              "      <th>1</th>\n",
              "      <td>64.0</td>\n",
              "      <td>squamous</td>\n",
              "      <td>70.0</td>\n",
              "      <td>5.0</td>\n",
              "      <td>yes</td>\n",
              "      <td>standard</td>\n",
              "    </tr>\n",
              "    <tr>\n",
              "      <th>2</th>\n",
              "      <td>38.0</td>\n",
              "      <td>squamous</td>\n",
              "      <td>60.0</td>\n",
              "      <td>3.0</td>\n",
              "      <td>no</td>\n",
              "      <td>standard</td>\n",
              "    </tr>\n",
              "    <tr>\n",
              "      <th>3</th>\n",
              "      <td>63.0</td>\n",
              "      <td>squamous</td>\n",
              "      <td>60.0</td>\n",
              "      <td>9.0</td>\n",
              "      <td>yes</td>\n",
              "      <td>standard</td>\n",
              "    </tr>\n",
              "    <tr>\n",
              "      <th>4</th>\n",
              "      <td>65.0</td>\n",
              "      <td>squamous</td>\n",
              "      <td>70.0</td>\n",
              "      <td>11.0</td>\n",
              "      <td>yes</td>\n",
              "      <td>standard</td>\n",
              "    </tr>\n",
              "    <tr>\n",
              "      <th>...</th>\n",
              "      <td>...</td>\n",
              "      <td>...</td>\n",
              "      <td>...</td>\n",
              "      <td>...</td>\n",
              "      <td>...</td>\n",
              "      <td>...</td>\n",
              "    </tr>\n",
              "    <tr>\n",
              "      <th>132</th>\n",
              "      <td>65.0</td>\n",
              "      <td>large</td>\n",
              "      <td>75.0</td>\n",
              "      <td>1.0</td>\n",
              "      <td>no</td>\n",
              "      <td>test</td>\n",
              "    </tr>\n",
              "    <tr>\n",
              "      <th>133</th>\n",
              "      <td>64.0</td>\n",
              "      <td>large</td>\n",
              "      <td>60.0</td>\n",
              "      <td>5.0</td>\n",
              "      <td>no</td>\n",
              "      <td>test</td>\n",
              "    </tr>\n",
              "    <tr>\n",
              "      <th>134</th>\n",
              "      <td>67.0</td>\n",
              "      <td>large</td>\n",
              "      <td>70.0</td>\n",
              "      <td>18.0</td>\n",
              "      <td>yes</td>\n",
              "      <td>test</td>\n",
              "    </tr>\n",
              "    <tr>\n",
              "      <th>135</th>\n",
              "      <td>65.0</td>\n",
              "      <td>large</td>\n",
              "      <td>80.0</td>\n",
              "      <td>4.0</td>\n",
              "      <td>no</td>\n",
              "      <td>test</td>\n",
              "    </tr>\n",
              "    <tr>\n",
              "      <th>136</th>\n",
              "      <td>37.0</td>\n",
              "      <td>large</td>\n",
              "      <td>30.0</td>\n",
              "      <td>3.0</td>\n",
              "      <td>no</td>\n",
              "      <td>test</td>\n",
              "    </tr>\n",
              "  </tbody>\n",
              "</table>\n",
              "<p>137 rows × 6 columns</p>\n",
              "</div>\n",
              "      <button class=\"colab-df-convert\" onclick=\"convertToInteractive('df-589a4212-0f8c-420e-a3aa-519fb91ef90f')\"\n",
              "              title=\"Convert this dataframe to an interactive table.\"\n",
              "              style=\"display:none;\">\n",
              "        \n",
              "  <svg xmlns=\"http://www.w3.org/2000/svg\" height=\"24px\"viewBox=\"0 0 24 24\"\n",
              "       width=\"24px\">\n",
              "    <path d=\"M0 0h24v24H0V0z\" fill=\"none\"/>\n",
              "    <path d=\"M18.56 5.44l.94 2.06.94-2.06 2.06-.94-2.06-.94-.94-2.06-.94 2.06-2.06.94zm-11 1L8.5 8.5l.94-2.06 2.06-.94-2.06-.94L8.5 2.5l-.94 2.06-2.06.94zm10 10l.94 2.06.94-2.06 2.06-.94-2.06-.94-.94-2.06-.94 2.06-2.06.94z\"/><path d=\"M17.41 7.96l-1.37-1.37c-.4-.4-.92-.59-1.43-.59-.52 0-1.04.2-1.43.59L10.3 9.45l-7.72 7.72c-.78.78-.78 2.05 0 2.83L4 21.41c.39.39.9.59 1.41.59.51 0 1.02-.2 1.41-.59l7.78-7.78 2.81-2.81c.8-.78.8-2.07 0-2.86zM5.41 20L4 18.59l7.72-7.72 1.47 1.35L5.41 20z\"/>\n",
              "  </svg>\n",
              "      </button>\n",
              "      \n",
              "  <style>\n",
              "    .colab-df-container {\n",
              "      display:flex;\n",
              "      flex-wrap:wrap;\n",
              "      gap: 12px;\n",
              "    }\n",
              "\n",
              "    .colab-df-convert {\n",
              "      background-color: #E8F0FE;\n",
              "      border: none;\n",
              "      border-radius: 50%;\n",
              "      cursor: pointer;\n",
              "      display: none;\n",
              "      fill: #1967D2;\n",
              "      height: 32px;\n",
              "      padding: 0 0 0 0;\n",
              "      width: 32px;\n",
              "    }\n",
              "\n",
              "    .colab-df-convert:hover {\n",
              "      background-color: #E2EBFA;\n",
              "      box-shadow: 0px 1px 2px rgba(60, 64, 67, 0.3), 0px 1px 3px 1px rgba(60, 64, 67, 0.15);\n",
              "      fill: #174EA6;\n",
              "    }\n",
              "\n",
              "    [theme=dark] .colab-df-convert {\n",
              "      background-color: #3B4455;\n",
              "      fill: #D2E3FC;\n",
              "    }\n",
              "\n",
              "    [theme=dark] .colab-df-convert:hover {\n",
              "      background-color: #434B5C;\n",
              "      box-shadow: 0px 1px 3px 1px rgba(0, 0, 0, 0.15);\n",
              "      filter: drop-shadow(0px 1px 2px rgba(0, 0, 0, 0.3));\n",
              "      fill: #FFFFFF;\n",
              "    }\n",
              "  </style>\n",
              "\n",
              "      <script>\n",
              "        const buttonEl =\n",
              "          document.querySelector('#df-589a4212-0f8c-420e-a3aa-519fb91ef90f button.colab-df-convert');\n",
              "        buttonEl.style.display =\n",
              "          google.colab.kernel.accessAllowed ? 'block' : 'none';\n",
              "\n",
              "        async function convertToInteractive(key) {\n",
              "          const element = document.querySelector('#df-589a4212-0f8c-420e-a3aa-519fb91ef90f');\n",
              "          const dataTable =\n",
              "            await google.colab.kernel.invokeFunction('convertToInteractive',\n",
              "                                                     [key], {});\n",
              "          if (!dataTable) return;\n",
              "\n",
              "          const docLinkHtml = 'Like what you see? Visit the ' +\n",
              "            '<a target=\"_blank\" href=https://colab.research.google.com/notebooks/data_table.ipynb>data table notebook</a>'\n",
              "            + ' to learn more about interactive tables.';\n",
              "          element.innerHTML = '';\n",
              "          dataTable['output_type'] = 'display_data';\n",
              "          await google.colab.output.renderOutput(dataTable, element);\n",
              "          const docLink = document.createElement('div');\n",
              "          docLink.innerHTML = docLinkHtml;\n",
              "          element.appendChild(docLink);\n",
              "        }\n",
              "      </script>\n",
              "    </div>\n",
              "  </div>\n",
              "  "
            ]
          },
          "metadata": {},
          "execution_count": 14
        }
      ]
    },
    {
      "cell_type": "markdown",
      "source": [
        "## 2) Split to train-test dataset"
      ],
      "metadata": {
        "id": "QrsYkidOCEP_"
      }
    },
    {
      "cell_type": "code",
      "source": [
        "va_x_train, va_x_test, va_y_train, va_y_test = train_test_split(\n",
        "    va_x, va_y, test_size=0.2, stratify=va_y[\"Status\"], random_state=0\n",
        ")\n",
        "\n",
        "va_x_train"
      ],
      "metadata": {
        "id": "Y0bK7CviB49Q",
        "colab": {
          "base_uri": "https://localhost:8080/",
          "height": 423
        },
        "outputId": "ab5c2610-d656-430c-a809-32162d22a39f"
      },
      "execution_count": 15,
      "outputs": [
        {
          "output_type": "execute_result",
          "data": {
            "text/plain": [
              "     Age_in_years   Celltype  Karnofsky_score  Months_from_Diagnosis  \\\n",
              "66           38.0      large             80.0                    5.0   \n",
              "121          62.0      adeno             80.0                    4.0   \n",
              "107          60.0      adeno             40.0                    2.0   \n",
              "57           47.0      large             70.0                    2.0   \n",
              "98           72.0  smallcell             70.0                    3.0   \n",
              "..            ...        ...              ...                    ...   \n",
              "126          68.0      large             70.0                   15.0   \n",
              "67           53.0      large             70.0                    8.0   \n",
              "83           52.0   squamous             80.0                   28.0   \n",
              "5            49.0   squamous             20.0                    5.0   \n",
              "105          59.0  smallcell             30.0                   87.0   \n",
              "\n",
              "    Prior_therapy Treatment  \n",
              "66             no  standard  \n",
              "121           yes      test  \n",
              "107            no      test  \n",
              "57             no  standard  \n",
              "98             no      test  \n",
              "..            ...       ...  \n",
              "126           yes      test  \n",
              "67            yes  standard  \n",
              "83            yes      test  \n",
              "5              no  standard  \n",
              "105           yes      test  \n",
              "\n",
              "[109 rows x 6 columns]"
            ],
            "text/html": [
              "\n",
              "  <div id=\"df-a9933861-59ba-48fe-b200-ef898665fb57\">\n",
              "    <div class=\"colab-df-container\">\n",
              "      <div>\n",
              "<style scoped>\n",
              "    .dataframe tbody tr th:only-of-type {\n",
              "        vertical-align: middle;\n",
              "    }\n",
              "\n",
              "    .dataframe tbody tr th {\n",
              "        vertical-align: top;\n",
              "    }\n",
              "\n",
              "    .dataframe thead th {\n",
              "        text-align: right;\n",
              "    }\n",
              "</style>\n",
              "<table border=\"1\" class=\"dataframe\">\n",
              "  <thead>\n",
              "    <tr style=\"text-align: right;\">\n",
              "      <th></th>\n",
              "      <th>Age_in_years</th>\n",
              "      <th>Celltype</th>\n",
              "      <th>Karnofsky_score</th>\n",
              "      <th>Months_from_Diagnosis</th>\n",
              "      <th>Prior_therapy</th>\n",
              "      <th>Treatment</th>\n",
              "    </tr>\n",
              "  </thead>\n",
              "  <tbody>\n",
              "    <tr>\n",
              "      <th>66</th>\n",
              "      <td>38.0</td>\n",
              "      <td>large</td>\n",
              "      <td>80.0</td>\n",
              "      <td>5.0</td>\n",
              "      <td>no</td>\n",
              "      <td>standard</td>\n",
              "    </tr>\n",
              "    <tr>\n",
              "      <th>121</th>\n",
              "      <td>62.0</td>\n",
              "      <td>adeno</td>\n",
              "      <td>80.0</td>\n",
              "      <td>4.0</td>\n",
              "      <td>yes</td>\n",
              "      <td>test</td>\n",
              "    </tr>\n",
              "    <tr>\n",
              "      <th>107</th>\n",
              "      <td>60.0</td>\n",
              "      <td>adeno</td>\n",
              "      <td>40.0</td>\n",
              "      <td>2.0</td>\n",
              "      <td>no</td>\n",
              "      <td>test</td>\n",
              "    </tr>\n",
              "    <tr>\n",
              "      <th>57</th>\n",
              "      <td>47.0</td>\n",
              "      <td>large</td>\n",
              "      <td>70.0</td>\n",
              "      <td>2.0</td>\n",
              "      <td>no</td>\n",
              "      <td>standard</td>\n",
              "    </tr>\n",
              "    <tr>\n",
              "      <th>98</th>\n",
              "      <td>72.0</td>\n",
              "      <td>smallcell</td>\n",
              "      <td>70.0</td>\n",
              "      <td>3.0</td>\n",
              "      <td>no</td>\n",
              "      <td>test</td>\n",
              "    </tr>\n",
              "    <tr>\n",
              "      <th>...</th>\n",
              "      <td>...</td>\n",
              "      <td>...</td>\n",
              "      <td>...</td>\n",
              "      <td>...</td>\n",
              "      <td>...</td>\n",
              "      <td>...</td>\n",
              "    </tr>\n",
              "    <tr>\n",
              "      <th>126</th>\n",
              "      <td>68.0</td>\n",
              "      <td>large</td>\n",
              "      <td>70.0</td>\n",
              "      <td>15.0</td>\n",
              "      <td>yes</td>\n",
              "      <td>test</td>\n",
              "    </tr>\n",
              "    <tr>\n",
              "      <th>67</th>\n",
              "      <td>53.0</td>\n",
              "      <td>large</td>\n",
              "      <td>70.0</td>\n",
              "      <td>8.0</td>\n",
              "      <td>yes</td>\n",
              "      <td>standard</td>\n",
              "    </tr>\n",
              "    <tr>\n",
              "      <th>83</th>\n",
              "      <td>52.0</td>\n",
              "      <td>squamous</td>\n",
              "      <td>80.0</td>\n",
              "      <td>28.0</td>\n",
              "      <td>yes</td>\n",
              "      <td>test</td>\n",
              "    </tr>\n",
              "    <tr>\n",
              "      <th>5</th>\n",
              "      <td>49.0</td>\n",
              "      <td>squamous</td>\n",
              "      <td>20.0</td>\n",
              "      <td>5.0</td>\n",
              "      <td>no</td>\n",
              "      <td>standard</td>\n",
              "    </tr>\n",
              "    <tr>\n",
              "      <th>105</th>\n",
              "      <td>59.0</td>\n",
              "      <td>smallcell</td>\n",
              "      <td>30.0</td>\n",
              "      <td>87.0</td>\n",
              "      <td>yes</td>\n",
              "      <td>test</td>\n",
              "    </tr>\n",
              "  </tbody>\n",
              "</table>\n",
              "<p>109 rows × 6 columns</p>\n",
              "</div>\n",
              "      <button class=\"colab-df-convert\" onclick=\"convertToInteractive('df-a9933861-59ba-48fe-b200-ef898665fb57')\"\n",
              "              title=\"Convert this dataframe to an interactive table.\"\n",
              "              style=\"display:none;\">\n",
              "        \n",
              "  <svg xmlns=\"http://www.w3.org/2000/svg\" height=\"24px\"viewBox=\"0 0 24 24\"\n",
              "       width=\"24px\">\n",
              "    <path d=\"M0 0h24v24H0V0z\" fill=\"none\"/>\n",
              "    <path d=\"M18.56 5.44l.94 2.06.94-2.06 2.06-.94-2.06-.94-.94-2.06-.94 2.06-2.06.94zm-11 1L8.5 8.5l.94-2.06 2.06-.94-2.06-.94L8.5 2.5l-.94 2.06-2.06.94zm10 10l.94 2.06.94-2.06 2.06-.94-2.06-.94-.94-2.06-.94 2.06-2.06.94z\"/><path d=\"M17.41 7.96l-1.37-1.37c-.4-.4-.92-.59-1.43-.59-.52 0-1.04.2-1.43.59L10.3 9.45l-7.72 7.72c-.78.78-.78 2.05 0 2.83L4 21.41c.39.39.9.59 1.41.59.51 0 1.02-.2 1.41-.59l7.78-7.78 2.81-2.81c.8-.78.8-2.07 0-2.86zM5.41 20L4 18.59l7.72-7.72 1.47 1.35L5.41 20z\"/>\n",
              "  </svg>\n",
              "      </button>\n",
              "      \n",
              "  <style>\n",
              "    .colab-df-container {\n",
              "      display:flex;\n",
              "      flex-wrap:wrap;\n",
              "      gap: 12px;\n",
              "    }\n",
              "\n",
              "    .colab-df-convert {\n",
              "      background-color: #E8F0FE;\n",
              "      border: none;\n",
              "      border-radius: 50%;\n",
              "      cursor: pointer;\n",
              "      display: none;\n",
              "      fill: #1967D2;\n",
              "      height: 32px;\n",
              "      padding: 0 0 0 0;\n",
              "      width: 32px;\n",
              "    }\n",
              "\n",
              "    .colab-df-convert:hover {\n",
              "      background-color: #E2EBFA;\n",
              "      box-shadow: 0px 1px 2px rgba(60, 64, 67, 0.3), 0px 1px 3px 1px rgba(60, 64, 67, 0.15);\n",
              "      fill: #174EA6;\n",
              "    }\n",
              "\n",
              "    [theme=dark] .colab-df-convert {\n",
              "      background-color: #3B4455;\n",
              "      fill: #D2E3FC;\n",
              "    }\n",
              "\n",
              "    [theme=dark] .colab-df-convert:hover {\n",
              "      background-color: #434B5C;\n",
              "      box-shadow: 0px 1px 3px 1px rgba(0, 0, 0, 0.15);\n",
              "      filter: drop-shadow(0px 1px 2px rgba(0, 0, 0, 0.3));\n",
              "      fill: #FFFFFF;\n",
              "    }\n",
              "  </style>\n",
              "\n",
              "      <script>\n",
              "        const buttonEl =\n",
              "          document.querySelector('#df-a9933861-59ba-48fe-b200-ef898665fb57 button.colab-df-convert');\n",
              "        buttonEl.style.display =\n",
              "          google.colab.kernel.accessAllowed ? 'block' : 'none';\n",
              "\n",
              "        async function convertToInteractive(key) {\n",
              "          const element = document.querySelector('#df-a9933861-59ba-48fe-b200-ef898665fb57');\n",
              "          const dataTable =\n",
              "            await google.colab.kernel.invokeFunction('convertToInteractive',\n",
              "                                                     [key], {});\n",
              "          if (!dataTable) return;\n",
              "\n",
              "          const docLinkHtml = 'Like what you see? Visit the ' +\n",
              "            '<a target=\"_blank\" href=https://colab.research.google.com/notebooks/data_table.ipynb>data table notebook</a>'\n",
              "            + ' to learn more about interactive tables.';\n",
              "          element.innerHTML = '';\n",
              "          dataTable['output_type'] = 'display_data';\n",
              "          await google.colab.output.renderOutput(dataTable, element);\n",
              "          const docLink = document.createElement('div');\n",
              "          docLink.innerHTML = docLinkHtml;\n",
              "          element.appendChild(docLink);\n",
              "        }\n",
              "      </script>\n",
              "    </div>\n",
              "  </div>\n",
              "  "
            ]
          },
          "metadata": {},
          "execution_count": 15
        }
      ]
    },
    {
      "cell_type": "markdown",
      "source": [
        "## 3) CPH model fitting and evaluation using time-dependent risk scores (D-AUC) "
      ],
      "metadata": {
        "id": "sJ-JY0LhBaud"
      }
    },
    {
      "cell_type": "code",
      "source": [
        "va_times = np.arange(8, 184, 7)\n",
        "\n",
        "cph = make_pipeline(OneHotEncoder(), CoxPHSurvivalAnalysis())\n",
        "cph.fit(va_x_train, va_y_train)\n"
      ],
      "metadata": {
        "id": "-hjvfvXsNypI",
        "colab": {
          "base_uri": "https://localhost:8080/",
          "height": 127
        },
        "outputId": "7354f06f-75b8-4b41-c323-4fab09c248bc"
      },
      "execution_count": 16,
      "outputs": [
        {
          "output_type": "execute_result",
          "data": {
            "text/plain": [
              "Pipeline(steps=[('onehotencoder', OneHotEncoder()),\n",
              "                ('coxphsurvivalanalysis', CoxPHSurvivalAnalysis())])"
            ],
            "text/html": [
              "<style>#sk-container-id-1 {color: black;background-color: white;}#sk-container-id-1 pre{padding: 0;}#sk-container-id-1 div.sk-toggleable {background-color: white;}#sk-container-id-1 label.sk-toggleable__label {cursor: pointer;display: block;width: 100%;margin-bottom: 0;padding: 0.3em;box-sizing: border-box;text-align: center;}#sk-container-id-1 label.sk-toggleable__label-arrow:before {content: \"▸\";float: left;margin-right: 0.25em;color: #696969;}#sk-container-id-1 label.sk-toggleable__label-arrow:hover:before {color: black;}#sk-container-id-1 div.sk-estimator:hover label.sk-toggleable__label-arrow:before {color: black;}#sk-container-id-1 div.sk-toggleable__content {max-height: 0;max-width: 0;overflow: hidden;text-align: left;background-color: #f0f8ff;}#sk-container-id-1 div.sk-toggleable__content pre {margin: 0.2em;color: black;border-radius: 0.25em;background-color: #f0f8ff;}#sk-container-id-1 input.sk-toggleable__control:checked~div.sk-toggleable__content {max-height: 200px;max-width: 100%;overflow: auto;}#sk-container-id-1 input.sk-toggleable__control:checked~label.sk-toggleable__label-arrow:before {content: \"▾\";}#sk-container-id-1 div.sk-estimator input.sk-toggleable__control:checked~label.sk-toggleable__label {background-color: #d4ebff;}#sk-container-id-1 div.sk-label input.sk-toggleable__control:checked~label.sk-toggleable__label {background-color: #d4ebff;}#sk-container-id-1 input.sk-hidden--visually {border: 0;clip: rect(1px 1px 1px 1px);clip: rect(1px, 1px, 1px, 1px);height: 1px;margin: -1px;overflow: hidden;padding: 0;position: absolute;width: 1px;}#sk-container-id-1 div.sk-estimator {font-family: monospace;background-color: #f0f8ff;border: 1px dotted black;border-radius: 0.25em;box-sizing: border-box;margin-bottom: 0.5em;}#sk-container-id-1 div.sk-estimator:hover {background-color: #d4ebff;}#sk-container-id-1 div.sk-parallel-item::after {content: \"\";width: 100%;border-bottom: 1px solid gray;flex-grow: 1;}#sk-container-id-1 div.sk-label:hover label.sk-toggleable__label {background-color: #d4ebff;}#sk-container-id-1 div.sk-serial::before {content: \"\";position: absolute;border-left: 1px solid gray;box-sizing: border-box;top: 0;bottom: 0;left: 50%;z-index: 0;}#sk-container-id-1 div.sk-serial {display: flex;flex-direction: column;align-items: center;background-color: white;padding-right: 0.2em;padding-left: 0.2em;position: relative;}#sk-container-id-1 div.sk-item {position: relative;z-index: 1;}#sk-container-id-1 div.sk-parallel {display: flex;align-items: stretch;justify-content: center;background-color: white;position: relative;}#sk-container-id-1 div.sk-item::before, #sk-container-id-1 div.sk-parallel-item::before {content: \"\";position: absolute;border-left: 1px solid gray;box-sizing: border-box;top: 0;bottom: 0;left: 50%;z-index: -1;}#sk-container-id-1 div.sk-parallel-item {display: flex;flex-direction: column;z-index: 1;position: relative;background-color: white;}#sk-container-id-1 div.sk-parallel-item:first-child::after {align-self: flex-end;width: 50%;}#sk-container-id-1 div.sk-parallel-item:last-child::after {align-self: flex-start;width: 50%;}#sk-container-id-1 div.sk-parallel-item:only-child::after {width: 0;}#sk-container-id-1 div.sk-dashed-wrapped {border: 1px dashed gray;margin: 0 0.4em 0.5em 0.4em;box-sizing: border-box;padding-bottom: 0.4em;background-color: white;}#sk-container-id-1 div.sk-label label {font-family: monospace;font-weight: bold;display: inline-block;line-height: 1.2em;}#sk-container-id-1 div.sk-label-container {text-align: center;}#sk-container-id-1 div.sk-container {/* jupyter's `normalize.less` sets `[hidden] { display: none; }` but bootstrap.min.css set `[hidden] { display: none !important; }` so we also need the `!important` here to be able to override the default hidden behavior on the sphinx rendered scikit-learn.org. See: https://github.com/scikit-learn/scikit-learn/issues/21755 */display: inline-block !important;position: relative;}#sk-container-id-1 div.sk-text-repr-fallback {display: none;}</style><div id=\"sk-container-id-1\" class=\"sk-top-container\"><div class=\"sk-text-repr-fallback\"><pre>Pipeline(steps=[(&#x27;onehotencoder&#x27;, OneHotEncoder()),\n",
              "                (&#x27;coxphsurvivalanalysis&#x27;, CoxPHSurvivalAnalysis())])</pre><b>In a Jupyter environment, please rerun this cell to show the HTML representation or trust the notebook. <br />On GitHub, the HTML representation is unable to render, please try loading this page with nbviewer.org.</b></div><div class=\"sk-container\" hidden><div class=\"sk-item sk-dashed-wrapped\"><div class=\"sk-label-container\"><div class=\"sk-label sk-toggleable\"><input class=\"sk-toggleable__control sk-hidden--visually\" id=\"sk-estimator-id-1\" type=\"checkbox\" ><label for=\"sk-estimator-id-1\" class=\"sk-toggleable__label sk-toggleable__label-arrow\">Pipeline</label><div class=\"sk-toggleable__content\"><pre>Pipeline(steps=[(&#x27;onehotencoder&#x27;, OneHotEncoder()),\n",
              "                (&#x27;coxphsurvivalanalysis&#x27;, CoxPHSurvivalAnalysis())])</pre></div></div></div><div class=\"sk-serial\"><div class=\"sk-item\"><div class=\"sk-estimator sk-toggleable\"><input class=\"sk-toggleable__control sk-hidden--visually\" id=\"sk-estimator-id-2\" type=\"checkbox\" ><label for=\"sk-estimator-id-2\" class=\"sk-toggleable__label sk-toggleable__label-arrow\">OneHotEncoder</label><div class=\"sk-toggleable__content\"><pre>OneHotEncoder()</pre></div></div></div><div class=\"sk-item\"><div class=\"sk-estimator sk-toggleable\"><input class=\"sk-toggleable__control sk-hidden--visually\" id=\"sk-estimator-id-3\" type=\"checkbox\" ><label for=\"sk-estimator-id-3\" class=\"sk-toggleable__label sk-toggleable__label-arrow\">CoxPHSurvivalAnalysis</label><div class=\"sk-toggleable__content\"><pre>CoxPHSurvivalAnalysis()</pre></div></div></div></div></div></div></div>"
            ]
          },
          "metadata": {},
          "execution_count": 16
        }
      ]
    },
    {
      "cell_type": "code",
      "source": [
        "cph_risk_scores = cph.predict(va_x_test)\n",
        "cph_auc, cph_mean_auc = cumulative_dynamic_auc(\n",
        "    va_y_train, va_y_test, cph_risk_scores, va_times\n",
        ")\n",
        "\n",
        "plt.plot(va_times, cph_auc, marker=\"o\")\n",
        "plt.axhline(cph_mean_auc, linestyle=\"--\")\n",
        "plt.xlabel(\"days from enrollment\")\n",
        "plt.ylabel(\"time-dependent AUC\")\n",
        "plt.grid(True)"
      ],
      "metadata": {
        "id": "bN5LD-SyAFH6",
        "colab": {
          "base_uri": "https://localhost:8080/",
          "height": 279
        },
        "outputId": "d71152ca-ed3f-4906-d62a-14fafc4854c4"
      },
      "execution_count": 17,
      "outputs": [
        {
          "output_type": "display_data",
          "data": {
            "text/plain": [
              "<Figure size 432x288 with 1 Axes>"
            ],
            "image/png": "[encoded data removed]"
          },
          "metadata": {
            "needs_background": "light"
          }
        }
      ]
    },
    {
      "cell_type": "markdown",
      "source": [
        "## 3) RSF fitting and predictions evaluated using time-dpendent risk scores"
      ],
      "metadata": {
        "id": "Jp-UxL_SBT7P"
      }
    },
    {
      "cell_type": "code",
      "source": [
        "rsf = make_pipeline(\n",
        "    OneHotEncoder(),\n",
        "    RandomSurvivalForest(n_estimators=100, min_samples_leaf=7, random_state=0)\n",
        ")\n",
        "\n",
        "rsf.fit(va_x_train, va_y_train)\n",
        "\n",
        "rsf_chf_funcs = rsf.predict_cumulative_hazard_function( va_x_test, return_array=False)\n",
        "\n",
        "rsf_risk_scores = np.row_stack([chf(va_times) for chf in rsf_chf_funcs])\n",
        "\n",
        "rsf_auc, rsf_mean_auc = cumulative_dynamic_auc(\n",
        "    va_y_train, va_y_test, rsf_risk_scores, va_times\n",
        ")\n",
        "\n",
        "plt.plot(va_times, cph_auc, \"o-\", label=\"CoxPH (mean AUC = {:.3f})\".format(cph_mean_auc))\n",
        "plt.plot(va_times, rsf_auc, \"o-\", label=\"RSF (mean AUC = {:.3f})\".format(rsf_mean_auc))\n",
        "plt.xlabel(\"days from enrollment\")\n",
        "plt.ylabel(\"time-dependent AUC\")\n",
        "plt.legend(loc=\"lower center\")\n",
        "plt.grid(True)\n"
      ],
      "metadata": {
        "id": "9ez4eMZm_2Go",
        "colab": {
          "base_uri": "https://localhost:8080/",
          "height": 279
        },
        "outputId": "6a286622-eaa4-4cf0-9f72-6dab17e119e9"
      },
      "execution_count": 18,
      "outputs": [
        {
          "output_type": "display_data",
          "data": {
            "text/plain": [
              "<Figure size 432x288 with 1 Axes>"
            ],
            "image/png": "[encoded data removed]"
          },
          "metadata": {
            "needs_background": "light"
          }
        }
      ]
    },
    {
      "cell_type": "markdown",
      "source": [
        "# Part 2: SUPPORT "
      ],
      "metadata": {
        "id": "7wJyMgOzr0pX"
      }
    },
    {
      "cell_type": "markdown",
      "source": [
        "## 1) Load SUPPORT dataset"
      ],
      "metadata": {
        "id": "wbWShi1nL0Oc"
      }
    },
    {
      "cell_type": "code",
      "source": [
        "#import lifelines\n",
        "#print('done')\n",
        "\n",
        "if 0:\n",
        "  import torch    \n",
        "  import torch.optim as optim \n",
        "  import torch.nn as nn\n",
        "\n",
        "  dtype = torch.float\n",
        "  device = torch.device( 'cuda' if torch.cuda.is_available() else 'cpu')\n",
        "  device\n",
        "  # !pip3 install torchtuples\n"
      ],
      "metadata": {
        "id": "03fMClt0znRp"
      },
      "execution_count": 19,
      "outputs": []
    },
    {
      "cell_type": "code",
      "source": [
        "data_support = pd.read_csv('support_parsed.csv')\n",
        "data_support.shape"
      ],
      "metadata": {
        "id": "2IJGu7_RmOqf",
        "colab": {
          "base_uri": "https://localhost:8080/"
        },
        "outputId": "952cbfa5-dd14-479c-d417-1986780609dc"
      },
      "execution_count": 20,
      "outputs": [
        {
          "output_type": "execute_result",
          "data": {
            "text/plain": [
              "(9105, 41)"
            ]
          },
          "metadata": {},
          "execution_count": 20
        }
      ]
    },
    {
      "cell_type": "code",
      "source": [
        "data_support.head(3)"
      ],
      "metadata": {
        "id": "BsPAO4rUmOn9",
        "colab": {
          "base_uri": "https://localhost:8080/",
          "height": 237
        },
        "outputId": "b1f14225-a36e-40c9-cfe2-1b80ba132653"
      },
      "execution_count": 21,
      "outputs": [
        {
          "output_type": "execute_result",
          "data": {
            "text/plain": [
              "   time  dead  dzgroupCHF  dzgroupCirrhosis  dzgroupColonCancer  dzgroupComa  \\\n",
              "0  2029     0           0                 0                   0            0   \n",
              "1     4     1           0                 1                   0            0   \n",
              "2    47     1           0                 1                   0            0   \n",
              "\n",
              "   dzgroupCOPD  dzgroupLungCancer  dzgroupMOSFMalig  comorbs  ...    hrt  \\\n",
              "0            0                  1                 0        0  ...   69.0   \n",
              "1            0                  0                 0        2  ...  112.0   \n",
              "2            0                  0                 0        2  ...   88.0   \n",
              "\n",
              "   resp      temp       pafi       alb      bili      crea  sod        ph  \\\n",
              "0    22  36.00000  388.00000  1.799805  0.199982  1.199951  141  7.459961   \n",
              "1    34  34.59375   98.00000  3.500000  1.010000  5.500000  132  7.250000   \n",
              "2    28  37.39844  231.65625  3.500000  2.199707  2.000000  134  7.459961   \n",
              "\n",
              "   adls  \n",
              "0     7  \n",
              "1     1  \n",
              "2     0  \n",
              "\n",
              "[3 rows x 41 columns]"
            ],
            "text/html": [
              "\n",
              "  <div id=\"df-7a3efab2-4a83-4a3d-bf38-4e9ad16b911c\">\n",
              "    <div class=\"colab-df-container\">\n",
              "      <div>\n",
              "<style scoped>\n",
              "    .dataframe tbody tr th:only-of-type {\n",
              "        vertical-align: middle;\n",
              "    }\n",
              "\n",
              "    .dataframe tbody tr th {\n",
              "        vertical-align: top;\n",
              "    }\n",
              "\n",
              "    .dataframe thead th {\n",
              "        text-align: right;\n",
              "    }\n",
              "</style>\n",
              "<table border=\"1\" class=\"dataframe\">\n",
              "  <thead>\n",
              "    <tr style=\"text-align: right;\">\n",
              "      <th></th>\n",
              "      <th>time</th>\n",
              "      <th>dead</th>\n",
              "      <th>dzgroupCHF</th>\n",
              "      <th>dzgroupCirrhosis</th>\n",
              "      <th>dzgroupColonCancer</th>\n",
              "      <th>dzgroupComa</th>\n",
              "      <th>dzgroupCOPD</th>\n",
              "      <th>dzgroupLungCancer</th>\n",
              "      <th>dzgroupMOSFMalig</th>\n",
              "      <th>comorbs</th>\n",
              "      <th>...</th>\n",
              "      <th>hrt</th>\n",
              "      <th>resp</th>\n",
              "      <th>temp</th>\n",
              "      <th>pafi</th>\n",
              "      <th>alb</th>\n",
              "      <th>bili</th>\n",
              "      <th>crea</th>\n",
              "      <th>sod</th>\n",
              "      <th>ph</th>\n",
              "      <th>adls</th>\n",
              "    </tr>\n",
              "  </thead>\n",
              "  <tbody>\n",
              "    <tr>\n",
              "      <th>0</th>\n",
              "      <td>2029</td>\n",
              "      <td>0</td>\n",
              "      <td>0</td>\n",
              "      <td>0</td>\n",
              "      <td>0</td>\n",
              "      <td>0</td>\n",
              "      <td>0</td>\n",
              "      <td>1</td>\n",
              "      <td>0</td>\n",
              "      <td>0</td>\n",
              "      <td>...</td>\n",
              "      <td>69.0</td>\n",
              "      <td>22</td>\n",
              "      <td>36.00000</td>\n",
              "      <td>388.00000</td>\n",
              "      <td>1.799805</td>\n",
              "      <td>0.199982</td>\n",
              "      <td>1.199951</td>\n",
              "      <td>141</td>\n",
              "      <td>7.459961</td>\n",
              "      <td>7</td>\n",
              "    </tr>\n",
              "    <tr>\n",
              "      <th>1</th>\n",
              "      <td>4</td>\n",
              "      <td>1</td>\n",
              "      <td>0</td>\n",
              "      <td>1</td>\n",
              "      <td>0</td>\n",
              "      <td>0</td>\n",
              "      <td>0</td>\n",
              "      <td>0</td>\n",
              "      <td>0</td>\n",
              "      <td>2</td>\n",
              "      <td>...</td>\n",
              "      <td>112.0</td>\n",
              "      <td>34</td>\n",
              "      <td>34.59375</td>\n",
              "      <td>98.00000</td>\n",
              "      <td>3.500000</td>\n",
              "      <td>1.010000</td>\n",
              "      <td>5.500000</td>\n",
              "      <td>132</td>\n",
              "      <td>7.250000</td>\n",
              "      <td>1</td>\n",
              "    </tr>\n",
              "    <tr>\n",
              "      <th>2</th>\n",
              "      <td>47</td>\n",
              "      <td>1</td>\n",
              "      <td>0</td>\n",
              "      <td>1</td>\n",
              "      <td>0</td>\n",
              "      <td>0</td>\n",
              "      <td>0</td>\n",
              "      <td>0</td>\n",
              "      <td>0</td>\n",
              "      <td>2</td>\n",
              "      <td>...</td>\n",
              "      <td>88.0</td>\n",
              "      <td>28</td>\n",
              "      <td>37.39844</td>\n",
              "      <td>231.65625</td>\n",
              "      <td>3.500000</td>\n",
              "      <td>2.199707</td>\n",
              "      <td>2.000000</td>\n",
              "      <td>134</td>\n",
              "      <td>7.459961</td>\n",
              "      <td>0</td>\n",
              "    </tr>\n",
              "  </tbody>\n",
              "</table>\n",
              "<p>3 rows × 41 columns</p>\n",
              "</div>\n",
              "      <button class=\"colab-df-convert\" onclick=\"convertToInteractive('df-7a3efab2-4a83-4a3d-bf38-4e9ad16b911c')\"\n",
              "              title=\"Convert this dataframe to an interactive table.\"\n",
              "              style=\"display:none;\">\n",
              "        \n",
              "  <svg xmlns=\"http://www.w3.org/2000/svg\" height=\"24px\"viewBox=\"0 0 24 24\"\n",
              "       width=\"24px\">\n",
              "    <path d=\"M0 0h24v24H0V0z\" fill=\"none\"/>\n",
              "    <path d=\"M18.56 5.44l.94 2.06.94-2.06 2.06-.94-2.06-.94-.94-2.06-.94 2.06-2.06.94zm-11 1L8.5 8.5l.94-2.06 2.06-.94-2.06-.94L8.5 2.5l-.94 2.06-2.06.94zm10 10l.94 2.06.94-2.06 2.06-.94-2.06-.94-.94-2.06-.94 2.06-2.06.94z\"/><path d=\"M17.41 7.96l-1.37-1.37c-.4-.4-.92-.59-1.43-.59-.52 0-1.04.2-1.43.59L10.3 9.45l-7.72 7.72c-.78.78-.78 2.05 0 2.83L4 21.41c.39.39.9.59 1.41.59.51 0 1.02-.2 1.41-.59l7.78-7.78 2.81-2.81c.8-.78.8-2.07 0-2.86zM5.41 20L4 18.59l7.72-7.72 1.47 1.35L5.41 20z\"/>\n",
              "  </svg>\n",
              "      </button>\n",
              "      \n",
              "  <style>\n",
              "    .colab-df-container {\n",
              "      display:flex;\n",
              "      flex-wrap:wrap;\n",
              "      gap: 12px;\n",
              "    }\n",
              "\n",
              "    .colab-df-convert {\n",
              "      background-color: #E8F0FE;\n",
              "      border: none;\n",
              "      border-radius: 50%;\n",
              "      cursor: pointer;\n",
              "      display: none;\n",
              "      fill: #1967D2;\n",
              "      height: 32px;\n",
              "      padding: 0 0 0 0;\n",
              "      width: 32px;\n",
              "    }\n",
              "\n",
              "    .colab-df-convert:hover {\n",
              "      background-color: #E2EBFA;\n",
              "      box-shadow: 0px 1px 2px rgba(60, 64, 67, 0.3), 0px 1px 3px 1px rgba(60, 64, 67, 0.15);\n",
              "      fill: #174EA6;\n",
              "    }\n",
              "\n",
              "    [theme=dark] .colab-df-convert {\n",
              "      background-color: #3B4455;\n",
              "      fill: #D2E3FC;\n",
              "    }\n",
              "\n",
              "    [theme=dark] .colab-df-convert:hover {\n",
              "      background-color: #434B5C;\n",
              "      box-shadow: 0px 1px 3px 1px rgba(0, 0, 0, 0.15);\n",
              "      filter: drop-shadow(0px 1px 2px rgba(0, 0, 0, 0.3));\n",
              "      fill: #FFFFFF;\n",
              "    }\n",
              "  </style>\n",
              "\n",
              "      <script>\n",
              "        const buttonEl =\n",
              "          document.querySelector('#df-7a3efab2-4a83-4a3d-bf38-4e9ad16b911c button.colab-df-convert');\n",
              "        buttonEl.style.display =\n",
              "          google.colab.kernel.accessAllowed ? 'block' : 'none';\n",
              "\n",
              "        async function convertToInteractive(key) {\n",
              "          const element = document.querySelector('#df-7a3efab2-4a83-4a3d-bf38-4e9ad16b911c');\n",
              "          const dataTable =\n",
              "            await google.colab.kernel.invokeFunction('convertToInteractive',\n",
              "                                                     [key], {});\n",
              "          if (!dataTable) return;\n",
              "\n",
              "          const docLinkHtml = 'Like what you see? Visit the ' +\n",
              "            '<a target=\"_blank\" href=https://colab.research.google.com/notebooks/data_table.ipynb>data table notebook</a>'\n",
              "            + ' to learn more about interactive tables.';\n",
              "          element.innerHTML = '';\n",
              "          dataTable['output_type'] = 'display_data';\n",
              "          await google.colab.output.renderOutput(dataTable, element);\n",
              "          const docLink = document.createElement('div');\n",
              "          docLink.innerHTML = docLinkHtml;\n",
              "          element.appendChild(docLink);\n",
              "        }\n",
              "      </script>\n",
              "    </div>\n",
              "  </div>\n",
              "  "
            ]
          },
          "metadata": {},
          "execution_count": 21
        }
      ]
    },
    {
      "cell_type": "markdown",
      "source": [
        "## 2) Construct structured array of event and time"
      ],
      "metadata": {
        "id": "-Utte0tBh5Ce"
      }
    },
    {
      "cell_type": "code",
      "source": [
        "va_y = Surv.from_arrays(  time=data_support['time'], event=data_support['dead'], name_event='Status' )\n",
        "va_y\n"
      ],
      "metadata": {
        "id": "akjKCsrehKqW",
        "colab": {
          "base_uri": "https://localhost:8080/"
        },
        "outputId": "71e733c6-2fa8-4901-b308-a7a871867ca7"
      },
      "execution_count": 22,
      "outputs": [
        {
          "output_type": "execute_result",
          "data": {
            "text/plain": [
              "array([(False, 2029.), ( True,    4.), ( True,   47.), ...,\n",
              "       (False,  346.), ( True,    7.), ( True,  198.)],\n",
              "      dtype=[('Status', '?'), ('time', '<f8')])"
            ]
          },
          "metadata": {},
          "execution_count": 22
        }
      ]
    },
    {
      "cell_type": "markdown",
      "source": [
        "## 3) Prepare input variables\n"
      ],
      "metadata": {
        "id": "tkMNmUgxh-g9"
      }
    },
    {
      "cell_type": "code",
      "source": [
        "va_x = data_support.drop( columns='time')\n",
        "va_x = va_x.drop( columns='dead')"
      ],
      "metadata": {
        "id": "DITolGyshKnR"
      },
      "execution_count": 23,
      "outputs": []
    },
    {
      "cell_type": "code",
      "source": [
        "data_support.keys()"
      ],
      "metadata": {
        "id": "kJQyLD-uguHd",
        "colab": {
          "base_uri": "https://localhost:8080/"
        },
        "outputId": "16f2330b-8ddd-4427-a531-494ca9a6d8be"
      },
      "execution_count": 24,
      "outputs": [
        {
          "output_type": "execute_result",
          "data": {
            "text/plain": [
              "Index(['time', 'dead', 'dzgroupCHF', 'dzgroupCirrhosis', 'dzgroupColonCancer',\n",
              "       'dzgroupComa', 'dzgroupCOPD', 'dzgroupLungCancer', 'dzgroupMOSFMalig',\n",
              "       'comorbs', 'edu', 'income11to25', 'income25to50', 'incomeunder11',\n",
              "       'incomeunknown', 'scoma', 'avtisst', 'raceblack', 'racehispanic',\n",
              "       'raceother', 'raceunknown', 'racewhite', 'sps', 'aps', 'hday',\n",
              "       'diabetes', 'dementia', 'cano', 'cayes', 'meanbp', 'wblc', 'hrt',\n",
              "       'resp', 'temp', 'pafi', 'alb', 'bili', 'crea', 'sod', 'ph', 'adls'],\n",
              "      dtype='object')"
            ]
          },
          "metadata": {},
          "execution_count": 24
        }
      ]
    },
    {
      "cell_type": "markdown",
      "source": [
        "## 4) Process input variables "
      ],
      "metadata": {
        "id": "5dIs-M-Ygoj3"
      }
    },
    {
      "cell_type": "code",
      "source": [
        "from sklearn import preprocessing\n",
        "\n",
        "va_x_copy= va_x.copy()\n",
        "encoders = dict()\n",
        "\n",
        "for c in va_x.keys():\n",
        "  e=isinstance( va_x[c][0], str )\n",
        "  \n",
        "  if e:    \n",
        "    encoders[c]= preprocessing.LabelEncoder() \n",
        "    encoders[c].fit( va_x[c].values )\n",
        "    va_x_copy[c] = encoders[c].transform( va_x[c].values )    \n",
        "    print( c, type(va_x[c][0]), e )\n",
        "  else:\n",
        "    print(c, '--> no change')\n",
        "    print( '{:.2f}, [{:.2f}, {:.2f}]'.format( np.median( va_x[c] ), min( va_x[c] ), max( va_x[c] ) ))\n",
        "    va_x_copy[c] = va_x[c]\n"
      ],
      "metadata": {
        "id": "LSwBCvOFpY1f",
        "colab": {
          "base_uri": "https://localhost:8080/"
        },
        "outputId": "a73475d4-e7f3-492e-d22a-b1352d0517bb"
      },
      "execution_count": 25,
      "outputs": [
        {
          "output_type": "stream",
          "name": "stdout",
          "text": [
            "dzgroupCHF --> no change\n",
            "0.00, [0.00, 1.00]\n",
            "dzgroupCirrhosis --> no change\n",
            "0.00, [0.00, 1.00]\n",
            "dzgroupColonCancer --> no change\n",
            "0.00, [0.00, 1.00]\n",
            "dzgroupComa --> no change\n",
            "0.00, [0.00, 1.00]\n",
            "dzgroupCOPD --> no change\n",
            "0.00, [0.00, 1.00]\n",
            "dzgroupLungCancer --> no change\n",
            "0.00, [0.00, 1.00]\n",
            "dzgroupMOSFMalig --> no change\n",
            "0.00, [0.00, 1.00]\n",
            "comorbs --> no change\n",
            "2.00, [0.00, 9.00]\n",
            "edu --> no change\n",
            "12.00, [0.00, 31.00]\n",
            "income11to25 --> no change\n",
            "0.00, [0.00, 1.00]\n",
            "income25to50 --> no change\n",
            "0.00, [0.00, 1.00]\n",
            "incomeunder11 --> no change\n",
            "0.00, [0.00, 1.00]\n",
            "incomeunknown --> no change\n",
            "0.00, [0.00, 1.00]\n",
            "scoma --> no change\n",
            "0.00, [0.00, 100.00]\n",
            "avtisst --> no change\n",
            "19.50, [1.00, 83.00]\n",
            "raceblack --> no change\n",
            "0.00, [0.00, 1.00]\n",
            "racehispanic --> no change\n",
            "0.00, [0.00, 1.00]\n",
            "raceother --> no change\n",
            "0.00, [0.00, 1.00]\n",
            "raceunknown --> no change\n",
            "0.00, [0.00, 1.00]\n",
            "racewhite --> no change\n",
            "1.00, [0.00, 1.00]\n",
            "sps --> no change\n",
            "23.90, [0.20, 99.19]\n",
            "aps --> no change\n",
            "34.00, [0.00, 143.00]\n",
            "hday --> no change\n",
            "1.00, [1.00, 148.00]\n",
            "diabetes --> no change\n",
            "0.00, [0.00, 1.00]\n",
            "dementia --> no change\n",
            "0.00, [0.00, 1.00]\n",
            "cano --> no change\n",
            "1.00, [0.00, 1.00]\n",
            "cayes --> no change\n",
            "0.00, [0.00, 1.00]\n",
            "meanbp --> no change\n",
            "77.00, [0.00, 195.00]\n",
            "wblc --> no change\n",
            "10.40, [0.00, 200.00]\n",
            "hrt --> no change\n",
            "100.00, [0.00, 300.00]\n",
            "resp --> no change\n",
            "24.00, [0.00, 90.00]\n",
            "temp --> no change\n",
            "36.70, [31.70, 41.70]\n",
            "pafi --> no change\n",
            "276.19, [12.00, 890.38]\n",
            "alb --> no change\n",
            "3.50, [0.40, 29.00]\n",
            "bili --> no change\n",
            "1.01, [0.10, 63.00]\n",
            "crea --> no change\n",
            "1.20, [0.10, 21.50]\n",
            "sod --> no change\n",
            "137.00, [110.00, 181.00]\n",
            "ph --> no change\n",
            "7.42, [6.83, 7.77]\n",
            "adls --> no change\n",
            "1.00, [0.00, 7.00]\n"
          ]
        }
      ]
    },
    {
      "cell_type": "markdown",
      "source": [
        "## 5) Split to train-test sets "
      ],
      "metadata": {
        "id": "tgXcpaONjJai"
      }
    },
    {
      "cell_type": "code",
      "source": [
        "va_x_train, va_x_test, va_y_train, va_y_test = train_test_split(\n",
        "    va_x_copy, va_y, test_size=0.2, stratify=va_y[\"Status\"], random_state=0\n",
        ")"
      ],
      "metadata": {
        "id": "0iS5_0bFh0Tu"
      },
      "execution_count": 26,
      "outputs": []
    },
    {
      "cell_type": "markdown",
      "source": [
        "## 6) Train a suite of models"
      ],
      "metadata": {
        "id": "CKwI3H5Yj3Rj"
      }
    },
    {
      "cell_type": "code",
      "source": [
        "random_state = 0\n",
        "def train():\n",
        "  models =dict()  \n",
        "  from sksurv.ensemble import ComponentwiseGradientBoostingSurvivalAnalysis\n",
        "  from sksurv.ensemble import GradientBoostingSurvivalAnalysis  \n",
        "\n",
        "\n",
        "  # took ~3 minutes on GPU\n",
        "  #models['GBT'] = GradientBoostingSurvivalAnalysis(n_estimators=100, learning_rate=1.0, max_depth=1, random_state=random_state  )\n",
        "  #models['GBT'].fit( va_x_train, va_y_train )\n",
        "  #cindex = models['GBT'].score( va_x_test, va_y_test)\n",
        "  #print( 'GBT', round(cindex, 3))  \n",
        "\n",
        "  # took ~6 minutes on GPU\n",
        "  models['GBT2'] = GradientBoostingSurvivalAnalysis( n_estimators=200, learning_rate=1, max_depth=1, random_state=random_state )\n",
        "  models['GBT2'].fit( va_x_train, va_y_train )\n",
        "  cindex = models['GBT2'].score( va_x_test, va_y_test)\n",
        "\n",
        "  print('GBT2', round(cindex, 3))\n",
        "  return models\n",
        "\n",
        "models = train()"
      ],
      "metadata": {
        "id": "zCZE30EHjTiu",
        "colab": {
          "base_uri": "https://localhost:8080/"
        },
        "outputId": "4153279d-6553-4955-ac92-993cd96eef75"
      },
      "execution_count": 27,
      "outputs": [
        {
          "output_type": "stream",
          "name": "stdout",
          "text": [
            "GBT2 0.727\n"
          ]
        }
      ]
    },
    {
      "cell_type": "code",
      "source": [
        "def train2( models ):\n",
        "  if 1:\n",
        "    #from sksurv.ensemble import RandomSurvivalForest\n",
        "    #m = 'rsf'\n",
        "    #models[m]=RandomSurvivalForest(n_estimators=200, min_samples_leaf=3, random_state=0)\n",
        "    #models[m].fit(va_x_train, va_y_train)\n",
        "\n",
        "    m = 'rsf2'\n",
        "    models[m]=RandomSurvivalForest(n_estimators=100, min_samples_leaf=7, random_state=0)\n",
        "    models[m].fit(va_x_train, va_y_train)\n",
        "\n",
        "  if 1:\n",
        "    m = 'CPH'\n",
        "    models[m]=CoxPHSurvivalAnalysis()\n",
        "    models[m].fit(va_x_train, va_y_train)\n",
        "\n",
        "  return models\n",
        "\n",
        "models = train2( models )"
      ],
      "metadata": {
        "id": "t3XP74EekWPR"
      },
      "execution_count": 64,
      "outputs": []
    },
    {
      "cell_type": "code",
      "source": [
        "from sklearn import set_config\n",
        "from sklearn.model_selection import ShuffleSplit, GridSearchCV\n",
        "from sksurv.svm import FastSurvivalSVM\n",
        "m = 'svm'  \n",
        "est = FastSurvivalSVM(max_iter=1000, tol=1e-5, random_state=0)\n",
        "#est.fit(va_x_train, va_y_train)\n",
        "#est.predict( va_x_train )"
      ],
      "metadata": {
        "id": "Wa2eZtZkqlLv"
      },
      "execution_count": 50,
      "outputs": []
    },
    {
      "cell_type": "code",
      "source": [
        "_, yy = load_veterans_lung_cancer()\n",
        "yy"
      ],
      "metadata": {
        "colab": {
          "base_uri": "https://localhost:8080/"
        },
        "id": "alb2sP6nq1Mx",
        "outputId": "0d5b1ee5-e703-4b5f-babd-49178db02bd3"
      },
      "execution_count": 51,
      "outputs": [
        {
          "output_type": "execute_result",
          "data": {
            "text/plain": [
              "array([( True,  72.), ( True, 411.), ( True, 228.), ( True, 126.),\n",
              "       ( True, 118.), ( True,  10.), ( True,  82.), ( True, 110.),\n",
              "       ( True, 314.), (False, 100.), ( True,  42.), ( True,   8.),\n",
              "       ( True, 144.), (False,  25.), ( True,  11.), ( True,  30.),\n",
              "       ( True, 384.), ( True,   4.), ( True,  54.), ( True,  13.),\n",
              "       (False, 123.), (False,  97.), ( True, 153.), ( True,  59.),\n",
              "       ( True, 117.), ( True,  16.), ( True, 151.), ( True,  22.),\n",
              "       ( True,  56.), ( True,  21.), ( True,  18.), ( True, 139.),\n",
              "       ( True,  20.), ( True,  31.), ( True,  52.), ( True, 287.),\n",
              "       ( True,  18.), ( True,  51.), ( True, 122.), ( True,  27.),\n",
              "       ( True,  54.), ( True,   7.), ( True,  63.), ( True, 392.),\n",
              "       ( True,  10.), ( True,   8.), ( True,  92.), ( True,  35.),\n",
              "       ( True, 117.), ( True, 132.), ( True,  12.), ( True, 162.),\n",
              "       ( True,   3.), ( True,  95.), ( True, 177.), ( True, 162.),\n",
              "       ( True, 216.), ( True, 553.), ( True, 278.), ( True,  12.),\n",
              "       ( True, 260.), ( True, 200.), ( True, 156.), (False, 182.),\n",
              "       ( True, 143.), ( True, 105.), ( True, 103.), ( True, 250.),\n",
              "       ( True, 100.), ( True, 999.), ( True, 112.), (False,  87.),\n",
              "       (False, 231.), ( True, 242.), ( True, 991.), ( True, 111.),\n",
              "       ( True,   1.), ( True, 587.), ( True, 389.), ( True,  33.),\n",
              "       ( True,  25.), ( True, 357.), ( True, 467.), ( True, 201.),\n",
              "       ( True,   1.), ( True,  30.), ( True,  44.), ( True, 283.),\n",
              "       ( True,  15.), ( True,  25.), (False, 103.), ( True,  21.),\n",
              "       ( True,  13.), ( True,  87.), ( True,   2.), ( True,  20.),\n",
              "       ( True,   7.), ( True,  24.), ( True,  99.), ( True,   8.),\n",
              "       ( True,  99.), ( True,  61.), ( True,  25.), ( True,  95.),\n",
              "       ( True,  80.), ( True,  51.), ( True,  29.), ( True,  24.),\n",
              "       ( True,  18.), (False,  83.), ( True,  31.), ( True,  51.),\n",
              "       ( True,  90.), ( True,  52.), ( True,  73.), ( True,   8.),\n",
              "       ( True,  36.), ( True,  48.), ( True,   7.), ( True, 140.),\n",
              "       ( True, 186.), ( True,  84.), ( True,  19.), ( True,  45.),\n",
              "       ( True,  80.), ( True,  52.), ( True, 164.), ( True,  19.),\n",
              "       ( True,  53.), ( True,  15.), ( True,  43.), ( True, 340.),\n",
              "       ( True, 133.), ( True, 111.), ( True, 231.), ( True, 378.),\n",
              "       ( True,  49.)],\n",
              "      dtype=[('Status', '?'), ('Survival_in_days', '<f8')])"
            ]
          },
          "metadata": {},
          "execution_count": 51
        }
      ]
    },
    {
      "cell_type": "code",
      "source": [
        "def score_survival_model(model, X, y):\n",
        "    prediction = model.predict(X)\n",
        "    result = concordance_index_censored(y['Status'], y['Survival_in_days'], prediction)\n",
        "    print(result[0])\n",
        "    return result[0]\n",
        "\n",
        "param_grid = {'alpha': 2. ** np.arange(-12, 13, 2)}\n",
        "cv = ShuffleSplit( n_splits=3, test_size=0.5, random_state=0)\n",
        "gcv = GridSearchCV( est, param_grid, scoring=score_survival_model,\n",
        "                  n_jobs=2, refit=False,\n",
        "                  cv=cv)\n",
        "\n",
        "gcv.fit(va_x_train, va_y_train)\n"
      ],
      "metadata": {
        "id": "FtrrgytgqsZ9",
        "colab": {
          "base_uri": "https://localhost:8080/",
          "height": 175
        },
        "outputId": "486ed780-8144-4c42-9f7c-5ef691089abe"
      },
      "execution_count": 54,
      "outputs": [
        {
          "output_type": "stream",
          "name": "stderr",
          "text": [
            "/usr/local/lib/python3.8/dist-packages/sklearn/model_selection/_search.py:953: UserWarning: One or more of the test scores are non-finite: [nan nan nan nan nan nan nan nan nan nan nan nan nan]\n",
            "  warnings.warn(\n"
          ]
        },
        {
          "output_type": "execute_result",
          "data": {
            "text/plain": [
              "GridSearchCV(cv=ShuffleSplit(n_splits=3, random_state=0, test_size=0.5, train_size=None),\n",
              "             estimator=FastSurvivalSVM(max_iter=1000, random_state=0,\n",
              "                                       tol=1e-05),\n",
              "             n_jobs=2,\n",
              "             param_grid={'alpha': array([2.44140625e-04, 9.76562500e-04, 3.90625000e-03, 1.56250000e-02,\n",
              "       6.25000000e-02, 2.50000000e-01, 1.00000000e+00, 4.00000000e+00,\n",
              "       1.60000000e+01, 6.40000000e+01, 2.56000000e+02, 1.02400000e+03,\n",
              "       4.09600000e+03])},\n",
              "             refit=False,\n",
              "             scoring=<function score_survival_model at 0x7f8b88784e50>)"
            ],
            "text/html": [
              "<style>#sk-container-id-2 {color: black;background-color: white;}#sk-container-id-2 pre{padding: 0;}#sk-container-id-2 div.sk-toggleable {background-color: white;}#sk-container-id-2 label.sk-toggleable__label {cursor: pointer;display: block;width: 100%;margin-bottom: 0;padding: 0.3em;box-sizing: border-box;text-align: center;}#sk-container-id-2 label.sk-toggleable__label-arrow:before {content: \"▸\";float: left;margin-right: 0.25em;color: #696969;}#sk-container-id-2 label.sk-toggleable__label-arrow:hover:before {color: black;}#sk-container-id-2 div.sk-estimator:hover label.sk-toggleable__label-arrow:before {color: black;}#sk-container-id-2 div.sk-toggleable__content {max-height: 0;max-width: 0;overflow: hidden;text-align: left;background-color: #f0f8ff;}#sk-container-id-2 div.sk-toggleable__content pre {margin: 0.2em;color: black;border-radius: 0.25em;background-color: #f0f8ff;}#sk-container-id-2 input.sk-toggleable__control:checked~div.sk-toggleable__content {max-height: 200px;max-width: 100%;overflow: auto;}#sk-container-id-2 input.sk-toggleable__control:checked~label.sk-toggleable__label-arrow:before {content: \"▾\";}#sk-container-id-2 div.sk-estimator input.sk-toggleable__control:checked~label.sk-toggleable__label {background-color: #d4ebff;}#sk-container-id-2 div.sk-label input.sk-toggleable__control:checked~label.sk-toggleable__label {background-color: #d4ebff;}#sk-container-id-2 input.sk-hidden--visually {border: 0;clip: rect(1px 1px 1px 1px);clip: rect(1px, 1px, 1px, 1px);height: 1px;margin: -1px;overflow: hidden;padding: 0;position: absolute;width: 1px;}#sk-container-id-2 div.sk-estimator {font-family: monospace;background-color: #f0f8ff;border: 1px dotted black;border-radius: 0.25em;box-sizing: border-box;margin-bottom: 0.5em;}#sk-container-id-2 div.sk-estimator:hover {background-color: #d4ebff;}#sk-container-id-2 div.sk-parallel-item::after {content: \"\";width: 100%;border-bottom: 1px solid gray;flex-grow: 1;}#sk-container-id-2 div.sk-label:hover label.sk-toggleable__label {background-color: #d4ebff;}#sk-container-id-2 div.sk-serial::before {content: \"\";position: absolute;border-left: 1px solid gray;box-sizing: border-box;top: 0;bottom: 0;left: 50%;z-index: 0;}#sk-container-id-2 div.sk-serial {display: flex;flex-direction: column;align-items: center;background-color: white;padding-right: 0.2em;padding-left: 0.2em;position: relative;}#sk-container-id-2 div.sk-item {position: relative;z-index: 1;}#sk-container-id-2 div.sk-parallel {display: flex;align-items: stretch;justify-content: center;background-color: white;position: relative;}#sk-container-id-2 div.sk-item::before, #sk-container-id-2 div.sk-parallel-item::before {content: \"\";position: absolute;border-left: 1px solid gray;box-sizing: border-box;top: 0;bottom: 0;left: 50%;z-index: -1;}#sk-container-id-2 div.sk-parallel-item {display: flex;flex-direction: column;z-index: 1;position: relative;background-color: white;}#sk-container-id-2 div.sk-parallel-item:first-child::after {align-self: flex-end;width: 50%;}#sk-container-id-2 div.sk-parallel-item:last-child::after {align-self: flex-start;width: 50%;}#sk-container-id-2 div.sk-parallel-item:only-child::after {width: 0;}#sk-container-id-2 div.sk-dashed-wrapped {border: 1px dashed gray;margin: 0 0.4em 0.5em 0.4em;box-sizing: border-box;padding-bottom: 0.4em;background-color: white;}#sk-container-id-2 div.sk-label label {font-family: monospace;font-weight: bold;display: inline-block;line-height: 1.2em;}#sk-container-id-2 div.sk-label-container {text-align: center;}#sk-container-id-2 div.sk-container {/* jupyter's `normalize.less` sets `[hidden] { display: none; }` but bootstrap.min.css set `[hidden] { display: none !important; }` so we also need the `!important` here to be able to override the default hidden behavior on the sphinx rendered scikit-learn.org. See: https://github.com/scikit-learn/scikit-learn/issues/21755 */display: inline-block !important;position: relative;}#sk-container-id-2 div.sk-text-repr-fallback {display: none;}</style><div id=\"sk-container-id-2\" class=\"sk-top-container\"><div class=\"sk-text-repr-fallback\"><pre>GridSearchCV(cv=ShuffleSplit(n_splits=3, random_state=0, test_size=0.5, train_size=None),\n",
              "             estimator=FastSurvivalSVM(max_iter=1000, random_state=0,\n",
              "                                       tol=1e-05),\n",
              "             n_jobs=2,\n",
              "             param_grid={&#x27;alpha&#x27;: array([2.44140625e-04, 9.76562500e-04, 3.90625000e-03, 1.56250000e-02,\n",
              "       6.25000000e-02, 2.50000000e-01, 1.00000000e+00, 4.00000000e+00,\n",
              "       1.60000000e+01, 6.40000000e+01, 2.56000000e+02, 1.02400000e+03,\n",
              "       4.09600000e+03])},\n",
              "             refit=False,\n",
              "             scoring=&lt;function score_survival_model at 0x7f8b88784e50&gt;)</pre><b>In a Jupyter environment, please rerun this cell to show the HTML representation or trust the notebook. <br />On GitHub, the HTML representation is unable to render, please try loading this page with nbviewer.org.</b></div><div class=\"sk-container\" hidden><div class=\"sk-item sk-dashed-wrapped\"><div class=\"sk-label-container\"><div class=\"sk-label sk-toggleable\"><input class=\"sk-toggleable__control sk-hidden--visually\" id=\"sk-estimator-id-4\" type=\"checkbox\" ><label for=\"sk-estimator-id-4\" class=\"sk-toggleable__label sk-toggleable__label-arrow\">GridSearchCV</label><div class=\"sk-toggleable__content\"><pre>GridSearchCV(cv=ShuffleSplit(n_splits=3, random_state=0, test_size=0.5, train_size=None),\n",
              "             estimator=FastSurvivalSVM(max_iter=1000, random_state=0,\n",
              "                                       tol=1e-05),\n",
              "             n_jobs=2,\n",
              "             param_grid={&#x27;alpha&#x27;: array([2.44140625e-04, 9.76562500e-04, 3.90625000e-03, 1.56250000e-02,\n",
              "       6.25000000e-02, 2.50000000e-01, 1.00000000e+00, 4.00000000e+00,\n",
              "       1.60000000e+01, 6.40000000e+01, 2.56000000e+02, 1.02400000e+03,\n",
              "       4.09600000e+03])},\n",
              "             refit=False,\n",
              "             scoring=&lt;function score_survival_model at 0x7f8b88784e50&gt;)</pre></div></div></div><div class=\"sk-parallel\"><div class=\"sk-parallel-item\"><div class=\"sk-item\"><div class=\"sk-label-container\"><div class=\"sk-label sk-toggleable\"><input class=\"sk-toggleable__control sk-hidden--visually\" id=\"sk-estimator-id-5\" type=\"checkbox\" ><label for=\"sk-estimator-id-5\" class=\"sk-toggleable__label sk-toggleable__label-arrow\">estimator: FastSurvivalSVM</label><div class=\"sk-toggleable__content\"><pre>FastSurvivalSVM(max_iter=1000, random_state=0, tol=1e-05)</pre></div></div></div><div class=\"sk-serial\"><div class=\"sk-item\"><div class=\"sk-estimator sk-toggleable\"><input class=\"sk-toggleable__control sk-hidden--visually\" id=\"sk-estimator-id-6\" type=\"checkbox\" ><label for=\"sk-estimator-id-6\" class=\"sk-toggleable__label sk-toggleable__label-arrow\">FastSurvivalSVM</label><div class=\"sk-toggleable__content\"><pre>FastSurvivalSVM(max_iter=1000, random_state=0, tol=1e-05)</pre></div></div></div></div></div></div></div></div></div></div>"
            ]
          },
          "metadata": {},
          "execution_count": 54
        }
      ]
    },
    {
      "cell_type": "code",
      "source": [
        "if 0:\n",
        "  svm0 = FastSurvivalSVM(max_iter=1000, tol=1e-5, random_state=0)\n",
        "  svm0.set_params(**gcv.best_params_)\n",
        "  svm0.fit( va_x_train, va_y_train )\n",
        "#yp=svm0.predict(va_x_test)\n",
        "#    svm0._predict_cumulative_hazard_function( va_x_test, return_array=False)   \n",
        "dir(svm0)"
      ],
      "metadata": {
        "colab": {
          "base_uri": "https://localhost:8080/"
        },
        "id": "TReWDqDpeV24",
        "outputId": "51310270-ecf4-4d72-d124-7c686033a4c0"
      },
      "execution_count": 62,
      "outputs": [
        {
          "output_type": "execute_result",
          "data": {
            "text/plain": [
              "['__abstractmethods__',\n",
              " '__class__',\n",
              " '__delattr__',\n",
              " '__dict__',\n",
              " '__dir__',\n",
              " '__doc__',\n",
              " '__eq__',\n",
              " '__format__',\n",
              " '__ge__',\n",
              " '__getattribute__',\n",
              " '__getstate__',\n",
              " '__gt__',\n",
              " '__hash__',\n",
              " '__init__',\n",
              " '__init_subclass__',\n",
              " '__le__',\n",
              " '__lt__',\n",
              " '__module__',\n",
              " '__ne__',\n",
              " '__new__',\n",
              " '__reduce__',\n",
              " '__reduce_ex__',\n",
              " '__repr__',\n",
              " '__setattr__',\n",
              " '__setstate__',\n",
              " '__sizeof__',\n",
              " '__str__',\n",
              " '__subclasshook__',\n",
              " '__weakref__',\n",
              " '_abc_impl',\n",
              " '_argsort_and_resolve_ties',\n",
              " '_check_feature_names',\n",
              " '_check_n_features',\n",
              " '_create_optimizer',\n",
              " '_fit',\n",
              " '_get_param_names',\n",
              " '_get_tags',\n",
              " '_more_tags',\n",
              " '_predict_cumulative_hazard_function',\n",
              " '_predict_function',\n",
              " '_predict_risk_score',\n",
              " '_predict_survival_function',\n",
              " '_repr_html_',\n",
              " '_repr_html_inner',\n",
              " '_repr_mimebundle_',\n",
              " '_validate_data',\n",
              " '_validate_for_fit',\n",
              " 'alpha',\n",
              " 'coef_',\n",
              " 'feature_names_in_',\n",
              " 'fit',\n",
              " 'fit_intercept',\n",
              " 'get_params',\n",
              " 'max_iter',\n",
              " 'n_features_in_',\n",
              " 'n_iter_',\n",
              " 'optimizer',\n",
              " 'optimizer_result_',\n",
              " 'predict',\n",
              " 'random_state',\n",
              " 'rank_ratio',\n",
              " 'score',\n",
              " 'set_params',\n",
              " 'timeit',\n",
              " 'tol',\n",
              " 'verbose']"
            ]
          },
          "metadata": {},
          "execution_count": 62
        }
      ]
    },
    {
      "cell_type": "code",
      "source": [
        "print( va_x_test.shape )\n",
        "va_x_train.shape\n",
        "\n",
        "mx_time = data_support['time'].max()\n",
        "va_times = np.arange(15, mx_time, 15)\n",
        "\n",
        "mx_time"
      ],
      "metadata": {
        "id": "gsTqLdAIohn0",
        "colab": {
          "base_uri": "https://localhost:8080/"
        },
        "outputId": "3457b2af-e447-4ebd-9881-39c32137488e"
      },
      "execution_count": 78,
      "outputs": [
        {
          "output_type": "stream",
          "name": "stdout",
          "text": [
            "(1821, 39)\n"
          ]
        },
        {
          "output_type": "execute_result",
          "data": {
            "text/plain": [
              "2029"
            ]
          },
          "metadata": {},
          "execution_count": 78
        }
      ]
    },
    {
      "cell_type": "code",
      "source": [
        "m='rsf2'\n",
        "F=models[ m ].predict_cumulative_hazard_function( va_x_test, return_array=False)    "
      ],
      "metadata": {
        "id": "cM7u7ae8wOnz"
      },
      "execution_count": 79,
      "outputs": []
    },
    {
      "cell_type": "code",
      "source": [],
      "metadata": {
        "id": "rzMDyNmJxl1p"
      },
      "execution_count": 80,
      "outputs": []
    },
    {
      "cell_type": "code",
      "source": [
        " "
      ],
      "metadata": {
        "id": "NmijXxGmxK3D"
      },
      "execution_count": 80,
      "outputs": []
    },
    {
      "cell_type": "code",
      "source": [
        "auc = dict()\n",
        "mean_auc = dict()\n",
        "\n",
        "clrs=['r','g','y', 'm', 'k', 'b']\n",
        "\n",
        "def eval_models(models, va_x_test, va_y_train, va_y_test, va_times):\n",
        "  \n",
        "  for i,m in enumerate( sorted(models.keys() )):\n",
        "    print(m)\n",
        "    F = models[ m ].predict_cumulative_hazard_function( va_x_test, return_array=False)    \n",
        "    try:\n",
        "      M = np.row_stack([chf(va_times) for chf in F ] )\n",
        "\n",
        "      auc[m], mean_auc[m] = cumulative_dynamic_auc( va_y_train, va_y_test, M, va_times )\n",
        "      plt.plot(va_times, auc[m], \"o-\", color=clrs[i], label=\"{} mean AUC = {:.3f}\".format(m, mean_auc[m]))\n",
        "    \n",
        "      plt.xlabel(\"days from enrollment\")\n",
        "      plt.ylabel(\"time-dependent AUC\")\n",
        "      plt.legend(loc=\"lower center\")\n",
        "      plt.grid(True)\n",
        "    except:\n",
        "      pass\n",
        "\n",
        "  return auc, mean_auc\n",
        "  \n",
        "auc, mean_auc = eval_models(models, va_x_test, va_y_train, va_y_test, va_times) \n",
        "\n",
        "plt.show()\n"
      ],
      "metadata": {
        "id": "1bKJShU6ky4K",
        "colab": {
          "base_uri": "https://localhost:8080/",
          "height": 334
        },
        "outputId": "38b8e167-6e6f-48f3-a725-c4f4417c88b2"
      },
      "execution_count": 81,
      "outputs": [
        {
          "output_type": "stream",
          "name": "stdout",
          "text": [
            "CPH\n",
            "GBT2\n",
            "rsf2\n"
          ]
        },
        {
          "output_type": "display_data",
          "data": {
            "text/plain": [
              "<Figure size 432x288 with 1 Axes>"
            ],
            "image/png": "[encoded data removed]"
          },
          "metadata": {
            "needs_background": "light"
          }
        }
      ]
    },
    {
      "cell_type": "markdown",
      "source": [
        "## 7) Permutation importance"
      ],
      "metadata": {
        "id": "MrLmZkCUhxQp"
      }
    },
    {
      "cell_type": "code",
      "source": [
        "from sklearn.inspection import permutation_importance\n",
        "\n",
        "random_state =0\n",
        "\n",
        "m='GBT2'\n",
        "result = permutation_importance( models[m], va_x_test, va_y_test, n_repeats=15, random_state=random_state )"
      ],
      "metadata": {
        "id": "NA-DAE8dhsNx"
      },
      "execution_count": 43,
      "outputs": []
    },
    {
      "cell_type": "code",
      "source": [
        "sorted_arr=pd.DataFrame(\n",
        "    {k: result[k] for k in (\"importances_mean\", \"importances_std\",)},\n",
        "    index=va_x_test.columns\n",
        ").sort_values(by=\"importances_mean\", ascending=False)\n",
        "\n",
        "sorted_arr.head(10)\n"
      ],
      "metadata": {
        "id": "bJVnumwgh0Rb",
        "colab": {
          "base_uri": "https://localhost:8080/",
          "height": 363
        },
        "outputId": "0a5416bf-2446-4bb0-d2af-fa3795ec5518"
      },
      "execution_count": 44,
      "outputs": [
        {
          "output_type": "execute_result",
          "data": {
            "text/plain": [
              "                    importances_mean  importances_std\n",
              "avtisst                     0.046401         0.004223\n",
              "cano                        0.030332         0.002733\n",
              "scoma                       0.029275         0.002662\n",
              "sps                         0.024643         0.003773\n",
              "dzgroupLungCancer           0.021904         0.002240\n",
              "aps                         0.015281         0.002033\n",
              "dzgroupComa                 0.009551         0.002448\n",
              "dzgroupMOSFMalig            0.006343         0.000694\n",
              "adls                        0.006264         0.001186\n",
              "dzgroupColonCancer          0.004467         0.001185"
            ],
            "text/html": [
              "\n",
              "  <div id=\"df-284b987f-b068-404f-90d8-052dee93f3b2\">\n",
              "    <div class=\"colab-df-container\">\n",
              "      <div>\n",
              "<style scoped>\n",
              "    .dataframe tbody tr th:only-of-type {\n",
              "        vertical-align: middle;\n",
              "    }\n",
              "\n",
              "    .dataframe tbody tr th {\n",
              "        vertical-align: top;\n",
              "    }\n",
              "\n",
              "    .dataframe thead th {\n",
              "        text-align: right;\n",
              "    }\n",
              "</style>\n",
              "<table border=\"1\" class=\"dataframe\">\n",
              "  <thead>\n",
              "    <tr style=\"text-align: right;\">\n",
              "      <th></th>\n",
              "      <th>importances_mean</th>\n",
              "      <th>importances_std</th>\n",
              "    </tr>\n",
              "  </thead>\n",
              "  <tbody>\n",
              "    <tr>\n",
              "      <th>avtisst</th>\n",
              "      <td>0.046401</td>\n",
              "      <td>0.004223</td>\n",
              "    </tr>\n",
              "    <tr>\n",
              "      <th>cano</th>\n",
              "      <td>0.030332</td>\n",
              "      <td>0.002733</td>\n",
              "    </tr>\n",
              "    <tr>\n",
              "      <th>scoma</th>\n",
              "      <td>0.029275</td>\n",
              "      <td>0.002662</td>\n",
              "    </tr>\n",
              "    <tr>\n",
              "      <th>sps</th>\n",
              "      <td>0.024643</td>\n",
              "      <td>0.003773</td>\n",
              "    </tr>\n",
              "    <tr>\n",
              "      <th>dzgroupLungCancer</th>\n",
              "      <td>0.021904</td>\n",
              "      <td>0.002240</td>\n",
              "    </tr>\n",
              "    <tr>\n",
              "      <th>aps</th>\n",
              "      <td>0.015281</td>\n",
              "      <td>0.002033</td>\n",
              "    </tr>\n",
              "    <tr>\n",
              "      <th>dzgroupComa</th>\n",
              "      <td>0.009551</td>\n",
              "      <td>0.002448</td>\n",
              "    </tr>\n",
              "    <tr>\n",
              "      <th>dzgroupMOSFMalig</th>\n",
              "      <td>0.006343</td>\n",
              "      <td>0.000694</td>\n",
              "    </tr>\n",
              "    <tr>\n",
              "      <th>adls</th>\n",
              "      <td>0.006264</td>\n",
              "      <td>0.001186</td>\n",
              "    </tr>\n",
              "    <tr>\n",
              "      <th>dzgroupColonCancer</th>\n",
              "      <td>0.004467</td>\n",
              "      <td>0.001185</td>\n",
              "    </tr>\n",
              "  </tbody>\n",
              "</table>\n",
              "</div>\n",
              "      <button class=\"colab-df-convert\" onclick=\"convertToInteractive('df-284b987f-b068-404f-90d8-052dee93f3b2')\"\n",
              "              title=\"Convert this dataframe to an interactive table.\"\n",
              "              style=\"display:none;\">\n",
              "        \n",
              "  <svg xmlns=\"http://www.w3.org/2000/svg\" height=\"24px\"viewBox=\"0 0 24 24\"\n",
              "       width=\"24px\">\n",
              "    <path d=\"M0 0h24v24H0V0z\" fill=\"none\"/>\n",
              "    <path d=\"M18.56 5.44l.94 2.06.94-2.06 2.06-.94-2.06-.94-.94-2.06-.94 2.06-2.06.94zm-11 1L8.5 8.5l.94-2.06 2.06-.94-2.06-.94L8.5 2.5l-.94 2.06-2.06.94zm10 10l.94 2.06.94-2.06 2.06-.94-2.06-.94-.94-2.06-.94 2.06-2.06.94z\"/><path d=\"M17.41 7.96l-1.37-1.37c-.4-.4-.92-.59-1.43-.59-.52 0-1.04.2-1.43.59L10.3 9.45l-7.72 7.72c-.78.78-.78 2.05 0 2.83L4 21.41c.39.39.9.59 1.41.59.51 0 1.02-.2 1.41-.59l7.78-7.78 2.81-2.81c.8-.78.8-2.07 0-2.86zM5.41 20L4 18.59l7.72-7.72 1.47 1.35L5.41 20z\"/>\n",
              "  </svg>\n",
              "      </button>\n",
              "      \n",
              "  <style>\n",
              "    .colab-df-container {\n",
              "      display:flex;\n",
              "      flex-wrap:wrap;\n",
              "      gap: 12px;\n",
              "    }\n",
              "\n",
              "    .colab-df-convert {\n",
              "      background-color: #E8F0FE;\n",
              "      border: none;\n",
              "      border-radius: 50%;\n",
              "      cursor: pointer;\n",
              "      display: none;\n",
              "      fill: #1967D2;\n",
              "      height: 32px;\n",
              "      padding: 0 0 0 0;\n",
              "      width: 32px;\n",
              "    }\n",
              "\n",
              "    .colab-df-convert:hover {\n",
              "      background-color: #E2EBFA;\n",
              "      box-shadow: 0px 1px 2px rgba(60, 64, 67, 0.3), 0px 1px 3px 1px rgba(60, 64, 67, 0.15);\n",
              "      fill: #174EA6;\n",
              "    }\n",
              "\n",
              "    [theme=dark] .colab-df-convert {\n",
              "      background-color: #3B4455;\n",
              "      fill: #D2E3FC;\n",
              "    }\n",
              "\n",
              "    [theme=dark] .colab-df-convert:hover {\n",
              "      background-color: #434B5C;\n",
              "      box-shadow: 0px 1px 3px 1px rgba(0, 0, 0, 0.15);\n",
              "      filter: drop-shadow(0px 1px 2px rgba(0, 0, 0, 0.3));\n",
              "      fill: #FFFFFF;\n",
              "    }\n",
              "  </style>\n",
              "\n",
              "      <script>\n",
              "        const buttonEl =\n",
              "          document.querySelector('#df-284b987f-b068-404f-90d8-052dee93f3b2 button.colab-df-convert');\n",
              "        buttonEl.style.display =\n",
              "          google.colab.kernel.accessAllowed ? 'block' : 'none';\n",
              "\n",
              "        async function convertToInteractive(key) {\n",
              "          const element = document.querySelector('#df-284b987f-b068-404f-90d8-052dee93f3b2');\n",
              "          const dataTable =\n",
              "            await google.colab.kernel.invokeFunction('convertToInteractive',\n",
              "                                                     [key], {});\n",
              "          if (!dataTable) return;\n",
              "\n",
              "          const docLinkHtml = 'Like what you see? Visit the ' +\n",
              "            '<a target=\"_blank\" href=https://colab.research.google.com/notebooks/data_table.ipynb>data table notebook</a>'\n",
              "            + ' to learn more about interactive tables.';\n",
              "          element.innerHTML = '';\n",
              "          dataTable['output_type'] = 'display_data';\n",
              "          await google.colab.output.renderOutput(dataTable, element);\n",
              "          const docLink = document.createElement('div');\n",
              "          docLink.innerHTML = docLinkHtml;\n",
              "          element.appendChild(docLink);\n",
              "        }\n",
              "      </script>\n",
              "    </div>\n",
              "  </div>\n",
              "  "
            ]
          },
          "metadata": {},
          "execution_count": 44
        }
      ]
    }
  ]
}